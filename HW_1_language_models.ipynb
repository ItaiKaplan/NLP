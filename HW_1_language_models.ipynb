{
  "nbformat": 4,
  "nbformat_minor": 0,
  "metadata": {
    "colab": {
      "name": "HW 1 - language models",
      "provenance": [],
      "collapsed_sections": [],
      "include_colab_link": true
    },
    "kernelspec": {
      "name": "python3",
      "display_name": "Python 3"
    }
  },
  "cells": [
    {
      "cell_type": "markdown",
      "metadata": {
        "id": "view-in-github",
        "colab_type": "text"
      },
      "source": [
        "<a href=\"https://colab.research.google.com/github/ItaiKaplan/NLP/blob/main/HW_1_language_models.ipynb\" target=\"_parent\"><img src=\"https://colab.research.google.com/assets/colab-badge.svg\" alt=\"Open In Colab\"/></a>"
      ]
    },
    {
      "cell_type": "markdown",
      "metadata": {
        "id": "7ce5pQK3bFn_"
      },
      "source": [
        "# Assignment 1\n",
        "In this assignment you will be creating tools for learning and testing language models.\n",
        "The corpora that you will be working with are lists of tweets in 8 different languages that use the Latin script. The data is provided either formatted as CSV or as JSON, for your convenience. The end goal is to write a set of tools that can detect the language of a given tweet.\n"
      ]
    },
    {
      "cell_type": "markdown",
      "metadata": {
        "id": "vwG8v-Ll49KM"
      },
      "source": [
        "*As a preparation for this task, download the data files from the course git repository.\n",
        "\n",
        "The relevant files are under **lm-languages-data-new**:\n",
        "\n",
        "\n",
        "*   en.csv (or the equivalent JSON file)\n",
        "*   es.csv (or the equivalent JSON file)\n",
        "*   fr.csv (or the equivalent JSON file)\n",
        "*   in.csv (or the equivalent JSON file)\n",
        "*   it.csv (or the equivalent JSON file)\n",
        "*   nl.csv (or the equivalent JSON file)\n",
        "*   pt.csv (or the equivalent JSON file)\n",
        "*   tl.csv (or the equivalent JSON file)\n",
        "*   test.csv (or the equivalent JSON file)\n",
        "\n",
        "\n",
        "\n"
      ]
    },
    {
      "cell_type": "code",
      "metadata": {
        "id": "7xC-87z2GWMq",
        "colab": {
          "base_uri": "https://localhost:8080/"
        },
        "outputId": "cca3ba6c-9f9a-43f8-d52b-6bc96d18ca16"
      },
      "source": [
        "!git clone https://github.com/kfirbar/nlp-course.git"
      ],
      "execution_count": null,
      "outputs": [
        {
          "output_type": "stream",
          "name": "stdout",
          "text": [
            "Cloning into 'nlp-course'...\n",
            "remote: Enumerating objects: 71, done.\u001b[K\n",
            "remote: Counting objects: 100% (71/71), done.\u001b[K\n",
            "remote: Compressing objects: 100% (57/57), done.\u001b[K\n",
            "remote: Total 71 (delta 29), reused 40 (delta 11), pack-reused 0\u001b[K\n",
            "Unpacking objects: 100% (71/71), done.\n"
          ]
        }
      ]
    },
    {
      "cell_type": "markdown",
      "metadata": {
        "id": "DOVb4IhsqimJ"
      },
      "source": [
        "\n",
        "\n",
        "---\n",
        "\n",
        "\n",
        "\n",
        "**Important note: please use only the files under lm-languages-data-new and NOT under lm-languages-data**\n",
        "\n",
        "\n",
        "---\n",
        "\n"
      ]
    },
    {
      "cell_type": "code",
      "metadata": {
        "colab": {
          "base_uri": "https://localhost:8080/"
        },
        "id": "QYdhPfbAGkip",
        "outputId": "2efe9d17-b811-42e9-acb9-f7667976e431"
      },
      "source": [
        "\n",
        "!ls nlp-course/lm-languages-data-new\n"
      ],
      "execution_count": null,
      "outputs": [
        {
          "output_type": "stream",
          "name": "stdout",
          "text": [
            "en.csv\t es.json  in.csv   it.json  pt.csv    test.json   tl.csv\n",
            "en.json  fr.csv   in.json  nl.csv   pt.json   tests.csv   tl.json\n",
            "es.csv\t fr.json  it.csv   nl.json  test.csv  tests.json\n"
          ]
        }
      ]
    },
    {
      "cell_type": "markdown",
      "metadata": {
        "id": "Ashyu_mT28o6"
      },
      "source": [
        "**Part 1**\n",
        "\n",
        "Write a function *preprocess* that iterates over all the data files and creates a single vocabulary, containing all the tokens in the data. **Our token definition is a single UTF-8 encoded character**. So, the vocabulary list is a simple Python list of all the characters that you see at least once in the data."
      ]
    },
    {
      "cell_type": "code",
      "source": [
        "import pandas as pd\n",
        "import numpy as np\n",
        "import os \n",
        "import itertools\n",
        "from collections import defaultdict, Counter\n",
        "import math\n",
        "from sklearn.metrics import f1_score"
      ],
      "metadata": {
        "id": "a5K5TpU5JAdL"
      },
      "execution_count": null,
      "outputs": []
    },
    {
      "cell_type": "code",
      "metadata": {
        "id": "xCfzsITW8Yaj"
      },
      "source": [
        "def preprocess():\n",
        "  tokens_set = set()\n",
        "  dir_name = 'nlp-course/lm-languages-data-new'\n",
        "  for file in os.listdir(dir_name):\n",
        "    if file.endswith('.csv'):\n",
        "      file_path = os.path.join(dir_name, file)\n",
        "      for tweet in pd.read_csv(file_path)['tweet_text']:\n",
        "        tokens_set |= set(tweet) \n",
        "\n",
        "  tokens_set.add('<start>')\n",
        "  tokens_set.add('<end>')\n",
        "  \n",
        "  return list(tokens_set)\n",
        "  "
      ],
      "execution_count": null,
      "outputs": []
    },
    {
      "cell_type": "code",
      "source": [
        "VOCAB = preprocess()\n"
      ],
      "metadata": {
        "id": "Ilrq_CcsOj1G"
      },
      "execution_count": null,
      "outputs": []
    },
    {
      "cell_type": "code",
      "source": [
        "print(VOCAB)\n",
        "len(VOCAB)"
      ],
      "metadata": {
        "colab": {
          "base_uri": "https://localhost:8080/"
        },
        "id": "dlXpvK3eOsWq",
        "outputId": "ca00a686-43cd-467a-9663-99c931827950"
      },
      "execution_count": null,
      "outputs": [
        {
          "output_type": "stream",
          "name": "stdout",
          "text": [
            "['🍟', '⠀', '林', 'ิ', '🍉', '赫', '🕤', '↪', '🔻', '🤛', '⚜', '┃', '도', '🏇', '화', '💌', '맨', '🕵', '🙇', '천', '⋅', '😱', '🛐', '🖼', 'ᵉ', '구', '🌗', 'ｎ', '➋', '네', 'û', '더', '🌇', '찌', 'ノ', '終', 'メ', '🌷', '🥞', '✧', '시', '„', '탄', '힐', '╭', '꼼', 'ة', 'á', '＠', '🏿', '努', '😨', '9', 'Ｍ', '?', '🇫', '💍', '료', '⭐', '강', '🎋', '📹', 'ร', '😕', '🍥', '➍', '🛩', '¥', 'ä', '🐶', '가', '🏖', '🎧', '쩜', '💲', '💃', 'Θ', '야', '生', '🌯', '🍼', '🌒', 'Ｖ', '💆', '🏘', 'ン', '보', '잭', '🍴', 'Ğ', '🍪', '🎾', '⛷', 'K', '–', 'し', '👶', '📈', 'ถ', '👎', '💥', '🍓', '🤚', 'ﾉ', '♡', 'Ⅳ', '🍊', '🎲', '아', '💗', '😹', '💓', '▊', '🔫', '🤞', '🆑', '社', '⁷', 'ñ', '1', 'ォ', '패', '！', 'ƒ', 'ナ', '結', '☰', '⋭', '¤', '스', '\\u2066', '\\u3000', '름', '🕘', '姿', '⒏', '©', '✨', '🔪', 'ð', '🥒', 'ｍ', 'ョ', '널', '👆', '儿', '하', '⏱', 'ｕ', '🎼', 'え', '😞', '핸', 'ˡ', '넷', '즈', 'É', '✌', '🌀', '♂', '►', '✂', '手', '🐍', '✏', '🐆', 'ʰ', '￼', '↔', '♏', '타', '📢', 'Ö', '◈', '🥓', '수', '♻', '🍀', '🏚', '🍨', '출', '♬', '➤', '🎨', '🐭', '๐', 'น', 'д', '고', '🏠', 'ب', '🔉', '⒍', '🌏', 'グ', '画', '♯', '림', '워', '６', '🇷', '🔋', '🌺', '⁉', '✵', 'ᙓ', '식', '🌓', '👟', '우', '☆', '📸', 'э', '📴', ']', '🖐', '🕷', '🛴', 'บ', '츠', '❁', '╚', '🏡', '🐁', 'Ê', '🎠', '🥐', '★', 'ู', 'î', '🚙', '▣', '゜', '😢', '🤑', 'ⓘ', '블', '🐿', '♊', '̃', '🍹', '🔶', '�', '😗', '리', 'L', '🆔', '내', '撃', '☀', '⚔', 'Q', '🇧', 'ʳ', 'œ', '◁', '➏', '사', '、', '✿', '✋', '2', '🌮', '⸄', '🎉', '🐈', '👽', '［', '/', 'N', '🚔', '้', '😪', '【', 'ド', '샤', '☣', 'う', 'm', '📽', '갓', '服', 'ブ', '😓', '挨', '者', '🚿', '7', '💩', '⛳', '🇱', '😸', 'ó', '²', '(', '¯', '🍒', '🐷', '삼', '―', 'พ', '↚', '비', '✃', '🍯', '😭', '․', '˛', 'غ', ' ', '☽', 'p', 'ク', '📛', '💬', '금', 'Ｙ', '재', '🗼', '세', 'Ｃ', '🏟', '혁', 'b', 'Ｎ', '😲', '🇨', '📚', 'k', '👇', '‿', '한', '💻', '‘', '🌚', '刹', '🙎', 'ニ', '🚶', 'स', '｡', '花', '洲', '✔', 'ピ', '😊', '👦', '🥄', 'ก', '♤', '🏴', '力', '↩', '込', 'و', '라', '\\u200a', 'ꠎ', '╰', '😒', '🦁', '🐫', '💼', '♛', 'И', 'п', '╯', '풀', 'っ', '봉', '⦒', '◽', '🇹', '💳', '╦', '。', '📼', '♩', '$', '⏸', '!', 'у', '🍁', '▶', '💵', '👩', 'ー', '6', 'u', 'ｐ', 'ⓦ', '༎', '増', '∀', '🎶', '커', '🏔', '🕌', '🇻', '🎒', '🐜', '너', '通', 'Ｏ', '༺', 'Œ', '➊', 'õ', '⬅', '♪', '√', '§', '¿', '티', 'V', '😻', '헨', '写', '主', '요', 'ʸ', 'ღ', '🛳', 'ᶰ', '룰', '영', '🏄', '🇬', '影', 't', '👫', '안', '撮', '`', '💽', '🍚', 'Ⅱ', '🔞', '┳', '💜', '🌳', 'て', '🎁', '🍣', '🕶', '온', 'ㅡ', 'υ', '機', '本', '🇭', '合', '🎰', '➌', 'ｖ', 'ᵘ', '﹏', 'ا', '♦', 'る', 'ว', '😑', ';', '许', 'Á', '╩', 'E', '📯', '付', '˘', 'ث', '🙋', '👖', '👉', '압', '￣', 'T', '🏼', '👣', '🤡', 'Р', '😯', '🖕', 'ᶠ', '🎙', '🏢', '👂', '南', '🚓', '두', '中', 'ᴗ', 'ｔ', '😆', '🍇', '後', 'в', '파', 'и', 'ê', '⛽', '👰', 'ⁱ', 'G', 'ヽ', '🔮', 'り', 'х', '👥', 'Ｉ', '🕯', '🤝', '🇩', 'Â', '¾', '′', '🛁', '映', '찰', '🔃', '📣', '⒎', '─', '헌', '🅿', '▕', '🐄', '彡', 'コ', '✷', '╗', '🎪', '☾', '🍃', 'M', '밀', 'ω', '♣', '☝', '📧', '🏈', '🌸', '🔵', '🇿', '🐕', '🍶', '☺', 'ラ', '⦑', '🍬', '🔥', '🏆', '☠', 'ｏ', '벅', '드', 'せ', '那', '🍺', '🍛', '嫌', '🌐', '🐎', '⑥', 'ｗ', '限', '🎱', '🎦', 'に', '❌', 'ａ', '🎫', '채', '💎', '魏', '에', '📋', '▪', 'い', '⚾', 'A', '🤥', '법', '🙉', '👻', ')', '🤣', '🙆', 'B', '다', 'ﾒ', '📻', 'w', '🔹', 'ั', '（', '나', '歳', '👁', '⛩', 'è', '✭', '🐹', '︵', '✓', '➙', '근', 'J', '』', '트', '🆚', '😀', '⊙', '⚪', '➛', '用', 'Ÿ', '✴', '⌚', 'ッ', '소', '˚', '💪', ',', '민', '≤', 'À', '\\u2009', '™', '📏', '】', 'チ', 'क', '상', 'Ｄ', 'ｓ', '🇾', 'フ', '🔊', '王', 'ุ', '🏋', '🎥', '그', '🈵', '⒈', '➗', 'г', '́', '🏓', '🇸', 'ˢ', 'Ü', 'ｄ', '🚁', 'ง', '☎', '⒐', '☉', 'ㅣ', '〜', '分', '펀', '╱', '복', 'ò', '🎓', '팁', 'ᵛ', '┆', '∴', '🎻', '💖', '🐻', '🗣', 'レ', 'ぜ', '📝', '😩', 'g', '정', '연', '🔙', '맞', '여', '）', '”', 'む', 'I', '🆘', '➡', '훈', 'と', '🤘', '\"', 'r', '®', '好', 'ᵐ', '›', 'く', '🐧', '⚕', 'ロ', '↓', '🏾', 'ئ', '⏰', 'ª', '❝', '😛', '👈', '💰', '🍿', '실', '샵', '▏', '😖', '┐', '미', '😏', 'ᵒ', '#', '🥁', '入', '닿', '🌨', '🌙', '^', 'ү', '😺', '⛅', '😦', '👹', '벳', '☕', '\\x97', '🇯', '🚌', 'ศ', '💑', '▦', '역', 'ป', 'ด', '😽', 'ı', '،', '║', '엘', '🐔', '┌', '👞', '❎', '↘', '😶', 'ຶ', 'c', '柱', '↑', '📅', '允', '@', '🎤', 'а', '걸', '\\x80', '🐉', '﹪', '잘', '🚗', 'س', '会', '⌛', '🆗', '🔲', '🖥', '😐', '🕪', '〡', '☯', '석', 'h', '⒉', '콤', '８', '🍗', '규', '⌣', '🍻', 'Ç', '👯', '🚨', 'ゴ', 'ü', '💦', 'Ù', '︎', '🏒', '🌊', '←', '🎢', '🌃', 'آ', '본', '学', '🥂', 'Ｕ', '🐮', '🎀', 'ي', '🇼', 'È', '☙', '🕟', '매', '🔝', '🦄', 'ะ', '🔼', '️', '방', '📊', '🌍', '🍱', 's', '👵', '플', '🚲', '↺', 'ｒ', '0', 'ㅤ', '몬', '늘', '🇰', 'Ş', 'O', 'ญ', '🙁', '제', '🌞', '🙈', 'ã', '태', 'P', '로', '◑', '◡', 'แ', '※', '▿', 'Ｑ', 'Ｈ', '💐', 'ы', '動', 'Y', '전', '☞', '랑', '윤', 'パ', '🚵', '👲', 'Ｒ', '🍭', 'Ò', 'ｃ', '울', '🛬', '🍤', '베', '◾', '¡', 'a', '⚒', 'د', 'ょ', '👋', '📌', 'れ', '👸', 'Å', '헤', '†', '환', '8', '추', 'ع', '🙂', '날', '♥', 'ㅋ', '♀', '͡', '🤖', '↕', '🇽', '의', '형', '🔐', '-', '🇪', '현', '😼', '😡', 'ç', 'º', '菜', '⚖', '💄', '🙀', '👨', '🤷', 'à', '╮', 'ｇ', '최', '◀', '🤠', '\\x91', '💝', 'Ó', '🎷', '🎊', '┄', '💿', 'ｑ', '🍾', '📀', '당', '🏳', '悪', '🃏', '텐', '링', 'R', 'ㅜ', 'イ', '킹', '🤓', '🤙', '🌲', '̈', '🔄', '⚘', '🆒', '嘉', '🏊', '👊', '배', '유', '😫', '🔰', '🙅', 'ब', 'ذ', '🐠', 'Ц', '෴', '🗽', '💏', '✝', '🚇', 'ú', '💅', 'Ñ', '•', '램', '위', 'W', '्', '▙', '∆', '😔', 'ビ', '真', 'ภ', '🎡', '🐖', '空', 'ส', '·', '3', 'j', '😘', '🗾', '😄', 'м', 'タ', '어', 'Ô', '😇', 'ج', '🕎', '뷔', '💙', 'ت', '↗', '🥘', '🕐', '션', '◆', '🏰', '月', '⛄', '♓', '엣', '송', 'ń', 'ᶦ', '😅', '½', '😬', '⚫', '셔', 'ᶜ', '🌠', '😤', '게', '🖒', 'Ã', '▲', '셩', '📰', '😿', '۶', '}', '🍵', '€', '①', '🕜', '🎿', '<start>', '🐱', '🍔', '🏃', 'Ｔ', '̯', 'Ｗ', '😝', '🔔', '♋', '⒋', '&', '🔴', '⏩', '바', '🗂', 'た', 'ネ', '歌', '🥅', '—', '[', '백', '{', '를', '슈', '尔', '🍷', 'が', 'ต', '릉', '🌹', '젤', '間', '🤜', 'ｂ', '🗳', '🍞', '╴', '😌', '☛', '🏙', '🕒', '☮', 'ト', '🌿', '결', '🔂', '｀', '🎅', '🔒', '🌆', '🐩', '．', '🍫', '▽', 'ю', 'О', '🏁', '💢', '🚫', 'な', 'р', '̮', 'с', 'ف', '🐾', 'Ａ', '☜', '☘', '👭', '_', '⚰', '🏻', '🇲', '🐑', '彼', '🐞', '🚖', '❤', '➖', 'ق', '🌜', '🗡', '人', 'ｚ', '👗', '마', 'ᵇ', '외', '무', '대', 'で', '🔘', '루', '〰', 'き', '🐺', '🍩', '╝', '🍳', '브', '🎞', '🏹', '지', '🌅', '🎮', '⎋', 'з', '曲', '💧', '↯', '예', '₹', '知', '➜', '신', 'ม', '🐬', '◄', '🌽', '┗', '🈷', '✪', '💮', 'Ｌ', '🐙', 'Ｂ', '＊', '😥', ':', '¸', 'Ｅ', 'q', '✳', '🎸', '🤕', '👓', '❣', 'र', '┓', '🍦', 'ग', '포', '🌻', 'ｌ', '༽', '«', '่', '＿', '🎗', '\\u31ef', '█', '❅', '✩', 'เ', '℃', 'セ', '🇴', 'は', '는', '초', '̀', '⬇', '이', '직', '🌤', '👪', '🍕', '☼', '카', '３', '༻', '🤦', 'Н', '❈', 'ュ', '\\u2067', '🦉', 'Ⅲ', 'ล', '%', '😵', '繋', '🌪', '📿', '°', '糟', 'ø', 'ㅅ', 'Ｇ', '😣', 'อ', '◼', 'プ', '●', '💤', '⇘', '¶', 'े', '💈', '🐴', '📷', '行', '🐊', '승', 'ل', '🛀', '=', '😳', '🍅', '\\\\', '➔', 'キ', 'ك', '슬', 'カ', '🚴', '🤴', '😉', '🙌', '토', 'Ғ', '“', '🔩', '╲', '🐟', '렛', '💶', '😰', '러', '양', '▝', '쥔', 'ن', '😧', '니', 'ï', '일', '남', 'ヮ', '🍍', '🚣', '🎆', '🛄', 'ᵖ', '😋', '🙃', 'Ⓜ', '🏽', '🐘', 'Î', 'ی', '🐣', '🕋', '디', 'x', 'ù', '년', '🚻', '🐝', 'ี', '듀', '집', 'ô', '🎂', '🕺', '🏩', '봄', '🅰', '😠', '왕', '👀', '🦇', '뱀', '~', '🆙', '🌥', '\\xad', '\\u200b', '๑', 'Ì', '🙄', '🚀', '👱', 'i', '⚓', '🍎', '🚼', '❗', 'l', '콘', '👺', '🌫', 'e', 'ş', '핑', 'の', '롱', 'f', '🐲', '👕', '\\x92', '👡', 'y', '踊', '🌎', 'प', '‼', '격', '😙', '➢', '💨', '👤', '🌋', '🙍', '☓', '🍂', '┏', '🐨', 'Ú', 'т', '장', '🥊', 'か', '⒑', '🔽', '投', 'ᵈ', '🌌', '🕊', '키', 'ﷻ', '🦅', '‰', 'ㅠ', '섹', '≥', '🌾', '✖', '💔', 'Ⅰ', '📆', '레', '치', '∞', '🔺', '➞', '주', '̥', '☁', '🔸', '🇵', '🍖', 'я', 'ᴰ', '🐦', '📲', 'ض', 'М', '🤗', '💀', '像', '❀', 'า', 'İ', '🦀', 'U', '×', '⤵', '¨', '💕', '✍', '世', '💟', 'ì', '有', 'ح', 'ｙ', '✰', '…', '박', '❓', '文', '🔌', '👧', '🤳', '☚', \"'\", '⇨', '븐', '🔁', '🐸', '🆓', 'ポ', '💚', 'Ｓ', '✅', '룸', '🇳', '💉', '⋪', 'б', '❞', '📍', '👿', '🍌', '🔨', '성', '📖', '🌝', '℅', '🦑', '🏀', 'ʔ', '🤒', 'ğ', '단', '○', '톡', '☑', '터', '³', '＃', '・', '⚡', '🆖', '稿', 'ひ', 'ز', '>', '🐚', '진', '🇮', 'オ', '국', '런', '💸', '💣', '☃', '🎺', '<', '🚮', 'ه', '┛', '》', '《', '🙏', '♫', 'н', 'ा', '4', '´', '🌼', '.', '🎩', 'づ', '🌭', '🙊', 'ワ', '🤧', 'ë', '🐥', '🔑', '슨', '༼', '利', '£', '🖤', '］', '✁', '인', '∇', '👏', '🐀', 'v', '💊', '🐐', '탑', '🦋', '▔', '界', '해', 'ス', '랙', '午', '☹', '◎', '♐', '😁', '논', '✶', '👳', '⛪', '🐽', '✈', '\\n', '＂', '🐡', '😷', '☔', '🐂', '크', '🌄', 'お', 'â', '🛫', '피', '👠', '🍑', '◻', 'А', '\\u2069', '검', '🤔', '🥀', 'จ', '☪', 'み', 'ね', '❥', 'ム', '프', '🐇', '⒌', 'ェ', '◕', 'ヒ', '💯', '〆', '」', '📩', 'ō', '➟', '🐒', '📞', 'わ', '互', '🔱', '🚑', '🌛', '😂', '🌧', '\\U000fe4e6', '時', '先', '*', 'F', '🍋', '노', '벨', 'ｉ', '♎', '🌬', '👌', '🎵', '🌴', 'Ω', '락', 'ᵍ', '→', '⸅', '👍', 'D', '🕛', '🐓', '🌱', '💘', '📱', 'ⁿ', '🍽', 'ش', 'テ', '🏅', '⛓', '🍝', '拶', '🛃', '오', '호', '🚦', '❄', 'ㅈ', '엠', '랜', '🚩', 'о', '呟', '気', '˖', '🌰', '👄', '과', '⚠', 'ข', 'خ', '종', 'ら', 'Õ', '🍜', 'ท', '\\u200d', '🤢', '？', '🆕', '🇺', 'к', '┻', '용', '❋', '🚘', 'H', '瞬', '생', '👐', 'd', '😍', '🐢', '🎬', '✊', '|', 'o', '’', '👙', '🖲', '곡', '🐯', '틴', '»', 'S', 'П', '≦', '✉', 'z', '😃', '✡', '+', '🅾', '👅', 'Ｆ', '기', 'ย', 'ೃ', 'Я', '🐳', '🔛', '📺', '🇦', '💒', 'ं', '📬', '\\x7f', '🗓', '┘', '🦃', '➰', '빅', 'ʖ', 'ᵗ', 'ر', '制', '👮', '🔅', '━', '🎟', '｜', '◇', 'é', '😟', '💫', '간', 'ⓙ', 'ö', 'ｅ', '🏌', '🔜', '누', '🚈', '버', '꺽', '😎', '📓', '🗻', '🌶', '싸', '💡', '경', '🥇', '🐼', '빼', '살', '쿱', '▸', '「', 'Ｋ', '😈', '5', '\\x9d', '🍆', '🎯', 'エ', '📂', '코', '👼', '╔', 'ė', '둑', '💛', '동', 'ⓢ', '🅱', 'C', 'Š', '🥔', '🎈', '『', '相', '🎭', '서', '애', '△', '➠', '🛰', '🏫', '🥃', 'ᵃ', '<end>', '👑', 'を', '≧', '엑', '💞', '╬', '🎹', '🚬', '風', 'n', '📡', '💭', '🚢', 'ㅏ', '７', 'Z', 'Δ', '선', '↛', '🗞', '임', '⚽', '🈴', '💋', '🈶', '♍', '녀', 'Í', 'ジ', '🍏', '▒', '💂', 'ʷ', '➎', '🏉', '🥙', '☄', '⏳', '등', '∵', 'ˍ', '🔓', '😚', '🎇', '원', '🍸', '😜', 'í', '⛈', '⃣', '💁', '卒', '🍰', '⚝', 'Ｐ', 'م', '😮', 'X', '希', 'ᴬ', '⛔', '🤐', '･', '🖖', 'Ф', '❔', 'サ', '📦', '⒊', '➵', '김', '🌵', '와', '▼', '洸', 'Ë', 'Ⅴ', '🎍', '͜', '毅', '👷', '🗨', '└', '😴', 'л', 'ユ', '業', '🤤', 'ط', '🗝', 'ʕ', '🌈', '철', '‹', '🌟', 'е', '🐰', 'ツ', '🚧', 'ｘ']\n"
          ]
        },
        {
          "output_type": "execute_result",
          "data": {
            "text/plain": [
              "1861"
            ]
          },
          "metadata": {},
          "execution_count": 7
        }
      ]
    },
    {
      "cell_type": "markdown",
      "metadata": {
        "id": "Nb2PGj0Yc2TY"
      },
      "source": [
        "**Part 2**\n",
        "\n",
        "Write a function lm that generates a language model from a textual corpus. The function should return a dictionary (representing a model) where the keys are all the relevant n-1 sequences, and the values are dictionaries with the n_th tokens and their corresponding probabilities to occur. For example, for a trigram model (tokens are characters), it should look something like:\n",
        "\n",
        "{\n",
        "  \"ab\":{\"c\":0.5, \"b\":0.25, \"d\":0.25},\n",
        "  \"ca\":{\"a\":0.2, \"b\":0.7, \"d\":0.1}\n",
        "}\n",
        "\n",
        "which means for example that after the sequence \"ab\", there is a 0.5 chance that \"c\" will appear, 0.25 for \"b\" to appear and 0.25 for \"d\" to appear.\n",
        "\n",
        "Note - You should think how to add the add_one smoothing information to the dictionary and implement it."
      ]
    },
    {
      "cell_type": "code",
      "metadata": {
        "id": "kMC_u8eQbVvZ"
      },
      "source": [
        "def lm(n, vocabulary, data_file_path, add_one):\n",
        "  # n - the n-gram to use (e.g., 1 - unigram, 2 - bigram, etc.)\n",
        "  # vocabulary - the vocabulary list (which you should use for calculating add_one smoothing)\n",
        "  # data_file_path - the data_file from which we record probabilities for our model\n",
        "  # add_one - True/False (use add_one smoothing or not)\n",
        "\n",
        "  base_counter = Counter()\n",
        "  model_counter = defaultdict(Counter)\n",
        "  \n",
        "  for tweet in pd.read_csv(data_file_path)['tweet_text']:\n",
        "    for window_start in range(len(tweet) - n + 1):\n",
        "      base_counter[tweet[window_start : window_start + n-1]] += 1\n",
        "      model_counter[tweet[window_start : window_start + n-1]][tweet[window_start + n-1]] += 1\n",
        "\n",
        "    # Handle start and end tokens\n",
        "    base_counter['<start>' + tweet[:n-1]] += 1\n",
        "    base_counter[tweet[-(n-1):]] += 1\n",
        "    model_counter['<start>' + tweet[:n-1]][tweet[n-1]]+= 1\n",
        "    model_counter[tweet[-(n-1):]][\"<end>\"] += 1\n",
        "  \n",
        "  model = defaultdict(lambda: defaultdict(lambda: 1 / (len(vocabulary))))\n",
        "  int_add_one = int(add_one)\n",
        "  for k, count_dict in model_counter.items():\n",
        "    for letter, count in count_dict.items():\n",
        "      model[k][letter] = (count + int_add_one) / (int_add_one * len(vocabulary) + base_counter[k])\n",
        "\n",
        "  return model\n",
        "  "
      ],
      "execution_count": null,
      "outputs": []
    },
    {
      "cell_type": "markdown",
      "metadata": {
        "id": "7M8TchtI22I3"
      },
      "source": [
        "**Part 3**\n",
        "\n",
        "Write a function *eval* that returns the perplexity of a model (dictionary) running over a given data file."
      ]
    },
    {
      "cell_type": "code",
      "metadata": {
        "id": "F0kkMn328-lJ"
      },
      "source": [
        "def eval(n, model, data_file):\n",
        "  # n - the n-gram that you used to build your model (must be the same number)\n",
        "  # model - the dictionary (model) to use for calculating perplexity\n",
        "  # data_file - the tweets file that you wish to claculate a perplexity score for\n",
        "\n",
        "  entropies_list = []\n",
        "  missing_value = 1e-10\n",
        "  counter = 0\n",
        "  entropy = 0\n",
        "\n",
        "  for tweet in pd.read_csv(data_file)['tweet_text']:\n",
        "\n",
        "    for window_start in range(n-1):\n",
        "      counter += 1\n",
        "      key = '<start>' * (n - window_start - 1) + tweet[0 : window_start]\n",
        "      value = tweet[window_start]\n",
        "      \n",
        "      if value in model[key]:\n",
        "        entropy -= math.log(model[key][value], 2)\n",
        "      else:\n",
        "        entropy -= math.log(missing_value, 2)\n",
        "\n",
        "    for window_start in range(len(tweet) - n):\n",
        "      counter += 1\n",
        "      key = tweet[window_start : window_start + n-1]\n",
        "      value = tweet[window_start + n-1]\n",
        "      \n",
        "      if value in model[key]:\n",
        "        entropy -= math.log(model[key][value], 2)\n",
        "      else:\n",
        "        entropy -= math.log(missing_value, 2)\n",
        "  \n",
        "  average_entropy = entropy / counter\n",
        "  return 2 ** average_entropy"
      ],
      "execution_count": null,
      "outputs": []
    },
    {
      "cell_type": "code",
      "source": [
        "test = lm(4, VOCAB, 'nlp-course/lm-languages-data-new/en.csv', False)"
      ],
      "metadata": {
        "id": "W0kqwlNCc2Vq"
      },
      "execution_count": null,
      "outputs": []
    },
    {
      "cell_type": "code",
      "source": [
        "print(eval(4, test, 'nlp-course/lm-languages-data-new/en.csv'))"
      ],
      "metadata": {
        "colab": {
          "base_uri": "https://localhost:8080/"
        },
        "id": "l86UyRodGjW1",
        "outputId": "f03ae9bf-66a2-4982-e05a-5e72575f863e"
      },
      "execution_count": null,
      "outputs": [
        {
          "output_type": "stream",
          "name": "stdout",
          "text": [
            "8.987466884050361\n"
          ]
        }
      ]
    },
    {
      "cell_type": "markdown",
      "metadata": {
        "id": "enGmtLE3921p"
      },
      "source": [
        "**Part 4**\n",
        "\n",
        "Write a function *match* that creates a model for every relevant language, using a specific value of *n* and *add_one*. Then, calculate the perplexity of all possible pairs (e.g., en model applied on the data files en ,es, fr, in, it, nl, pt, tl; es model applied on the data files en, es...). This function should return a pandas DataFrame with columns [en ,es, fr, in, it, nl, pt, tl] and every row should be labeled with one of the languages. Then, the values are the relevant perplexity values."
      ]
    },
    {
      "cell_type": "code",
      "metadata": {
        "id": "caAxLE9s_fvn"
      },
      "source": [
        "def match(n, add_one):\n",
        "  # n - the n-gram to use for creating n-gram models\n",
        "  # add_one - use add_one smoothing or not\n",
        "\n",
        "  languages_dict = {'en': {} ,'es' : {}, 'fr' : {}, 'in' :{}, 'it':{}, 'nl':{}, 'pt' :{}, 'tl':{}}\n",
        "\n",
        "  for first_language in languages_dict.keys():\n",
        "    model = lm(n, VOCAB, f'nlp-course/lm-languages-data-new/{first_language}.csv', add_one)\n",
        "    for second_language in languages_dict.keys():\n",
        "      languages_dict[first_language][second_language] = eval(n, model, f'nlp-course/lm-languages-data-new/{second_language}.csv')\n",
        "\n",
        "  return pd.DataFrame(languages_dict)\n",
        "  "
      ],
      "execution_count": null,
      "outputs": []
    },
    {
      "cell_type": "code",
      "source": [
        "match_test = match(3, True)\n"
      ],
      "metadata": {
        "id": "U4qeJrS_P-Nb"
      },
      "execution_count": null,
      "outputs": []
    },
    {
      "cell_type": "code",
      "source": [
        "match_test"
      ],
      "metadata": {
        "colab": {
          "base_uri": "https://localhost:8080/",
          "height": 300
        },
        "id": "uOpYDBp_Qu2m",
        "outputId": "cf3c3055-bd81-4edb-b502-1d79dbccec00"
      },
      "execution_count": null,
      "outputs": [
        {
          "output_type": "execute_result",
          "data": {
            "text/plain": [
              "            en           es          fr           in           it          nl  \\\n",
              "en   40.253868   516.583628  334.959341   362.111025   475.023801  278.797384   \n",
              "es  433.728268    37.952644  341.519061   552.341275   318.520335  545.872831   \n",
              "fr  666.996927   620.862665   36.805567  1056.991443   601.103670  637.500461   \n",
              "in  593.823117  1037.160205  739.546089    49.244202  1147.266868  582.346619   \n",
              "it  363.598395   288.431770  309.386474   490.782617    39.837977  492.727643   \n",
              "nl  507.574421  1019.120300  609.696227   561.969101  1019.927602   41.368104   \n",
              "pt  688.170684   352.669549  517.184366   800.612287   469.329433  795.007401   \n",
              "tl  510.545029   847.447957  782.939894   408.184361   783.027443  629.579965   \n",
              "\n",
              "             pt           tl  \n",
              "en   724.049540   300.418446  \n",
              "es   312.157014   465.385013  \n",
              "fr   870.918338  1160.714746  \n",
              "in  1556.972414   379.458207  \n",
              "it   437.195181   438.828412  \n",
              "nl  1435.127252   754.301624  \n",
              "pt    44.750227   737.169596  \n",
              "tl  1129.992814    49.396110  "
            ],
            "text/html": [
              "\n",
              "  <div id=\"df-226c661b-5343-4ff2-afee-df13374d28a4\">\n",
              "    <div class=\"colab-df-container\">\n",
              "      <div>\n",
              "<style scoped>\n",
              "    .dataframe tbody tr th:only-of-type {\n",
              "        vertical-align: middle;\n",
              "    }\n",
              "\n",
              "    .dataframe tbody tr th {\n",
              "        vertical-align: top;\n",
              "    }\n",
              "\n",
              "    .dataframe thead th {\n",
              "        text-align: right;\n",
              "    }\n",
              "</style>\n",
              "<table border=\"1\" class=\"dataframe\">\n",
              "  <thead>\n",
              "    <tr style=\"text-align: right;\">\n",
              "      <th></th>\n",
              "      <th>en</th>\n",
              "      <th>es</th>\n",
              "      <th>fr</th>\n",
              "      <th>in</th>\n",
              "      <th>it</th>\n",
              "      <th>nl</th>\n",
              "      <th>pt</th>\n",
              "      <th>tl</th>\n",
              "    </tr>\n",
              "  </thead>\n",
              "  <tbody>\n",
              "    <tr>\n",
              "      <th>en</th>\n",
              "      <td>40.253868</td>\n",
              "      <td>516.583628</td>\n",
              "      <td>334.959341</td>\n",
              "      <td>362.111025</td>\n",
              "      <td>475.023801</td>\n",
              "      <td>278.797384</td>\n",
              "      <td>724.049540</td>\n",
              "      <td>300.418446</td>\n",
              "    </tr>\n",
              "    <tr>\n",
              "      <th>es</th>\n",
              "      <td>433.728268</td>\n",
              "      <td>37.952644</td>\n",
              "      <td>341.519061</td>\n",
              "      <td>552.341275</td>\n",
              "      <td>318.520335</td>\n",
              "      <td>545.872831</td>\n",
              "      <td>312.157014</td>\n",
              "      <td>465.385013</td>\n",
              "    </tr>\n",
              "    <tr>\n",
              "      <th>fr</th>\n",
              "      <td>666.996927</td>\n",
              "      <td>620.862665</td>\n",
              "      <td>36.805567</td>\n",
              "      <td>1056.991443</td>\n",
              "      <td>601.103670</td>\n",
              "      <td>637.500461</td>\n",
              "      <td>870.918338</td>\n",
              "      <td>1160.714746</td>\n",
              "    </tr>\n",
              "    <tr>\n",
              "      <th>in</th>\n",
              "      <td>593.823117</td>\n",
              "      <td>1037.160205</td>\n",
              "      <td>739.546089</td>\n",
              "      <td>49.244202</td>\n",
              "      <td>1147.266868</td>\n",
              "      <td>582.346619</td>\n",
              "      <td>1556.972414</td>\n",
              "      <td>379.458207</td>\n",
              "    </tr>\n",
              "    <tr>\n",
              "      <th>it</th>\n",
              "      <td>363.598395</td>\n",
              "      <td>288.431770</td>\n",
              "      <td>309.386474</td>\n",
              "      <td>490.782617</td>\n",
              "      <td>39.837977</td>\n",
              "      <td>492.727643</td>\n",
              "      <td>437.195181</td>\n",
              "      <td>438.828412</td>\n",
              "    </tr>\n",
              "    <tr>\n",
              "      <th>nl</th>\n",
              "      <td>507.574421</td>\n",
              "      <td>1019.120300</td>\n",
              "      <td>609.696227</td>\n",
              "      <td>561.969101</td>\n",
              "      <td>1019.927602</td>\n",
              "      <td>41.368104</td>\n",
              "      <td>1435.127252</td>\n",
              "      <td>754.301624</td>\n",
              "    </tr>\n",
              "    <tr>\n",
              "      <th>pt</th>\n",
              "      <td>688.170684</td>\n",
              "      <td>352.669549</td>\n",
              "      <td>517.184366</td>\n",
              "      <td>800.612287</td>\n",
              "      <td>469.329433</td>\n",
              "      <td>795.007401</td>\n",
              "      <td>44.750227</td>\n",
              "      <td>737.169596</td>\n",
              "    </tr>\n",
              "    <tr>\n",
              "      <th>tl</th>\n",
              "      <td>510.545029</td>\n",
              "      <td>847.447957</td>\n",
              "      <td>782.939894</td>\n",
              "      <td>408.184361</td>\n",
              "      <td>783.027443</td>\n",
              "      <td>629.579965</td>\n",
              "      <td>1129.992814</td>\n",
              "      <td>49.396110</td>\n",
              "    </tr>\n",
              "  </tbody>\n",
              "</table>\n",
              "</div>\n",
              "      <button class=\"colab-df-convert\" onclick=\"convertToInteractive('df-226c661b-5343-4ff2-afee-df13374d28a4')\"\n",
              "              title=\"Convert this dataframe to an interactive table.\"\n",
              "              style=\"display:none;\">\n",
              "        \n",
              "  <svg xmlns=\"http://www.w3.org/2000/svg\" height=\"24px\"viewBox=\"0 0 24 24\"\n",
              "       width=\"24px\">\n",
              "    <path d=\"M0 0h24v24H0V0z\" fill=\"none\"/>\n",
              "    <path d=\"M18.56 5.44l.94 2.06.94-2.06 2.06-.94-2.06-.94-.94-2.06-.94 2.06-2.06.94zm-11 1L8.5 8.5l.94-2.06 2.06-.94-2.06-.94L8.5 2.5l-.94 2.06-2.06.94zm10 10l.94 2.06.94-2.06 2.06-.94-2.06-.94-.94-2.06-.94 2.06-2.06.94z\"/><path d=\"M17.41 7.96l-1.37-1.37c-.4-.4-.92-.59-1.43-.59-.52 0-1.04.2-1.43.59L10.3 9.45l-7.72 7.72c-.78.78-.78 2.05 0 2.83L4 21.41c.39.39.9.59 1.41.59.51 0 1.02-.2 1.41-.59l7.78-7.78 2.81-2.81c.8-.78.8-2.07 0-2.86zM5.41 20L4 18.59l7.72-7.72 1.47 1.35L5.41 20z\"/>\n",
              "  </svg>\n",
              "      </button>\n",
              "      \n",
              "  <style>\n",
              "    .colab-df-container {\n",
              "      display:flex;\n",
              "      flex-wrap:wrap;\n",
              "      gap: 12px;\n",
              "    }\n",
              "\n",
              "    .colab-df-convert {\n",
              "      background-color: #E8F0FE;\n",
              "      border: none;\n",
              "      border-radius: 50%;\n",
              "      cursor: pointer;\n",
              "      display: none;\n",
              "      fill: #1967D2;\n",
              "      height: 32px;\n",
              "      padding: 0 0 0 0;\n",
              "      width: 32px;\n",
              "    }\n",
              "\n",
              "    .colab-df-convert:hover {\n",
              "      background-color: #E2EBFA;\n",
              "      box-shadow: 0px 1px 2px rgba(60, 64, 67, 0.3), 0px 1px 3px 1px rgba(60, 64, 67, 0.15);\n",
              "      fill: #174EA6;\n",
              "    }\n",
              "\n",
              "    [theme=dark] .colab-df-convert {\n",
              "      background-color: #3B4455;\n",
              "      fill: #D2E3FC;\n",
              "    }\n",
              "\n",
              "    [theme=dark] .colab-df-convert:hover {\n",
              "      background-color: #434B5C;\n",
              "      box-shadow: 0px 1px 3px 1px rgba(0, 0, 0, 0.15);\n",
              "      filter: drop-shadow(0px 1px 2px rgba(0, 0, 0, 0.3));\n",
              "      fill: #FFFFFF;\n",
              "    }\n",
              "  </style>\n",
              "\n",
              "      <script>\n",
              "        const buttonEl =\n",
              "          document.querySelector('#df-226c661b-5343-4ff2-afee-df13374d28a4 button.colab-df-convert');\n",
              "        buttonEl.style.display =\n",
              "          google.colab.kernel.accessAllowed ? 'block' : 'none';\n",
              "\n",
              "        async function convertToInteractive(key) {\n",
              "          const element = document.querySelector('#df-226c661b-5343-4ff2-afee-df13374d28a4');\n",
              "          const dataTable =\n",
              "            await google.colab.kernel.invokeFunction('convertToInteractive',\n",
              "                                                     [key], {});\n",
              "          if (!dataTable) return;\n",
              "\n",
              "          const docLinkHtml = 'Like what you see? Visit the ' +\n",
              "            '<a target=\"_blank\" href=https://colab.research.google.com/notebooks/data_table.ipynb>data table notebook</a>'\n",
              "            + ' to learn more about interactive tables.';\n",
              "          element.innerHTML = '';\n",
              "          dataTable['output_type'] = 'display_data';\n",
              "          await google.colab.output.renderOutput(dataTable, element);\n",
              "          const docLink = document.createElement('div');\n",
              "          docLink.innerHTML = docLinkHtml;\n",
              "          element.appendChild(docLink);\n",
              "        }\n",
              "      </script>\n",
              "    </div>\n",
              "  </div>\n",
              "  "
            ]
          },
          "metadata": {},
          "execution_count": 39
        }
      ]
    },
    {
      "cell_type": "markdown",
      "metadata": {
        "id": "waGMwA8H_n17"
      },
      "source": [
        "**Part 5**\n",
        "\n",
        "Run match with *n* values 1-4, once with add_one and once without, and print the 8 tables to this notebook, one after another."
      ]
    },
    {
      "cell_type": "code",
      "metadata": {
        "id": "nk32naXyAMdl"
      },
      "source": [
        "def run_match():\n",
        "  #TODO\n",
        "  for n in range(1,5):\n",
        "    for add_one in [True, False]:\n",
        "      yield match(n, add_one)\n",
        "\n",
        "results = run_match()"
      ],
      "execution_count": null,
      "outputs": []
    },
    {
      "cell_type": "code",
      "source": [
        "print(\"n=1, add_one=True\")\n",
        "next(results)"
      ],
      "metadata": {
        "colab": {
          "base_uri": "https://localhost:8080/",
          "height": 300
        },
        "id": "nsGu8kA0PW_r",
        "outputId": "cae48570-ae34-4293-a1fe-51031a4e7ee1"
      },
      "execution_count": null,
      "outputs": [
        {
          "output_type": "execute_result",
          "data": {
            "text/plain": [
              "           en         es         fr         in         it         nl  \\\n",
              "en  36.426588  40.118245  39.760601  40.558101  39.690601  39.017677   \n",
              "es  40.356260  34.129104  37.989651  45.111067  36.998969  39.199164   \n",
              "fr  42.965259  40.193906  35.554034  46.455196  39.400623  40.240004   \n",
              "in  39.650831  41.808469  42.542783  35.258106  41.672427  39.774145   \n",
              "it  39.870326  38.905755  38.063313  42.355726  35.559022  39.354752   \n",
              "nl  37.743448  39.613750  38.966779  39.901005  39.164717  35.455641   \n",
              "pt  44.494676  39.979636  40.862122  48.177157  41.600593  42.488105   \n",
              "tl  42.689592  45.228811  46.998144  40.632919  44.406457  44.367921   \n",
              "\n",
              "           pt         tl  \n",
              "en  40.594601  40.402655  \n",
              "es  35.548108  40.983249  \n",
              "fr  39.432853  47.070377  \n",
              "in  41.130941  37.399217  \n",
              "it  39.422394  41.816834  \n",
              "nl  39.713300  40.822434  \n",
              "pt  34.856480  43.912971  \n",
              "tl  45.144641  38.457511  "
            ],
            "text/html": [
              "\n",
              "  <div id=\"df-245d16c0-25a1-4d0f-b384-03f8e594b319\">\n",
              "    <div class=\"colab-df-container\">\n",
              "      <div>\n",
              "<style scoped>\n",
              "    .dataframe tbody tr th:only-of-type {\n",
              "        vertical-align: middle;\n",
              "    }\n",
              "\n",
              "    .dataframe tbody tr th {\n",
              "        vertical-align: top;\n",
              "    }\n",
              "\n",
              "    .dataframe thead th {\n",
              "        text-align: right;\n",
              "    }\n",
              "</style>\n",
              "<table border=\"1\" class=\"dataframe\">\n",
              "  <thead>\n",
              "    <tr style=\"text-align: right;\">\n",
              "      <th></th>\n",
              "      <th>en</th>\n",
              "      <th>es</th>\n",
              "      <th>fr</th>\n",
              "      <th>in</th>\n",
              "      <th>it</th>\n",
              "      <th>nl</th>\n",
              "      <th>pt</th>\n",
              "      <th>tl</th>\n",
              "    </tr>\n",
              "  </thead>\n",
              "  <tbody>\n",
              "    <tr>\n",
              "      <th>en</th>\n",
              "      <td>36.426588</td>\n",
              "      <td>40.118245</td>\n",
              "      <td>39.760601</td>\n",
              "      <td>40.558101</td>\n",
              "      <td>39.690601</td>\n",
              "      <td>39.017677</td>\n",
              "      <td>40.594601</td>\n",
              "      <td>40.402655</td>\n",
              "    </tr>\n",
              "    <tr>\n",
              "      <th>es</th>\n",
              "      <td>40.356260</td>\n",
              "      <td>34.129104</td>\n",
              "      <td>37.989651</td>\n",
              "      <td>45.111067</td>\n",
              "      <td>36.998969</td>\n",
              "      <td>39.199164</td>\n",
              "      <td>35.548108</td>\n",
              "      <td>40.983249</td>\n",
              "    </tr>\n",
              "    <tr>\n",
              "      <th>fr</th>\n",
              "      <td>42.965259</td>\n",
              "      <td>40.193906</td>\n",
              "      <td>35.554034</td>\n",
              "      <td>46.455196</td>\n",
              "      <td>39.400623</td>\n",
              "      <td>40.240004</td>\n",
              "      <td>39.432853</td>\n",
              "      <td>47.070377</td>\n",
              "    </tr>\n",
              "    <tr>\n",
              "      <th>in</th>\n",
              "      <td>39.650831</td>\n",
              "      <td>41.808469</td>\n",
              "      <td>42.542783</td>\n",
              "      <td>35.258106</td>\n",
              "      <td>41.672427</td>\n",
              "      <td>39.774145</td>\n",
              "      <td>41.130941</td>\n",
              "      <td>37.399217</td>\n",
              "    </tr>\n",
              "    <tr>\n",
              "      <th>it</th>\n",
              "      <td>39.870326</td>\n",
              "      <td>38.905755</td>\n",
              "      <td>38.063313</td>\n",
              "      <td>42.355726</td>\n",
              "      <td>35.559022</td>\n",
              "      <td>39.354752</td>\n",
              "      <td>39.422394</td>\n",
              "      <td>41.816834</td>\n",
              "    </tr>\n",
              "    <tr>\n",
              "      <th>nl</th>\n",
              "      <td>37.743448</td>\n",
              "      <td>39.613750</td>\n",
              "      <td>38.966779</td>\n",
              "      <td>39.901005</td>\n",
              "      <td>39.164717</td>\n",
              "      <td>35.455641</td>\n",
              "      <td>39.713300</td>\n",
              "      <td>40.822434</td>\n",
              "    </tr>\n",
              "    <tr>\n",
              "      <th>pt</th>\n",
              "      <td>44.494676</td>\n",
              "      <td>39.979636</td>\n",
              "      <td>40.862122</td>\n",
              "      <td>48.177157</td>\n",
              "      <td>41.600593</td>\n",
              "      <td>42.488105</td>\n",
              "      <td>34.856480</td>\n",
              "      <td>43.912971</td>\n",
              "    </tr>\n",
              "    <tr>\n",
              "      <th>tl</th>\n",
              "      <td>42.689592</td>\n",
              "      <td>45.228811</td>\n",
              "      <td>46.998144</td>\n",
              "      <td>40.632919</td>\n",
              "      <td>44.406457</td>\n",
              "      <td>44.367921</td>\n",
              "      <td>45.144641</td>\n",
              "      <td>38.457511</td>\n",
              "    </tr>\n",
              "  </tbody>\n",
              "</table>\n",
              "</div>\n",
              "      <button class=\"colab-df-convert\" onclick=\"convertToInteractive('df-245d16c0-25a1-4d0f-b384-03f8e594b319')\"\n",
              "              title=\"Convert this dataframe to an interactive table.\"\n",
              "              style=\"display:none;\">\n",
              "        \n",
              "  <svg xmlns=\"http://www.w3.org/2000/svg\" height=\"24px\"viewBox=\"0 0 24 24\"\n",
              "       width=\"24px\">\n",
              "    <path d=\"M0 0h24v24H0V0z\" fill=\"none\"/>\n",
              "    <path d=\"M18.56 5.44l.94 2.06.94-2.06 2.06-.94-2.06-.94-.94-2.06-.94 2.06-2.06.94zm-11 1L8.5 8.5l.94-2.06 2.06-.94-2.06-.94L8.5 2.5l-.94 2.06-2.06.94zm10 10l.94 2.06.94-2.06 2.06-.94-2.06-.94-.94-2.06-.94 2.06-2.06.94z\"/><path d=\"M17.41 7.96l-1.37-1.37c-.4-.4-.92-.59-1.43-.59-.52 0-1.04.2-1.43.59L10.3 9.45l-7.72 7.72c-.78.78-.78 2.05 0 2.83L4 21.41c.39.39.9.59 1.41.59.51 0 1.02-.2 1.41-.59l7.78-7.78 2.81-2.81c.8-.78.8-2.07 0-2.86zM5.41 20L4 18.59l7.72-7.72 1.47 1.35L5.41 20z\"/>\n",
              "  </svg>\n",
              "      </button>\n",
              "      \n",
              "  <style>\n",
              "    .colab-df-container {\n",
              "      display:flex;\n",
              "      flex-wrap:wrap;\n",
              "      gap: 12px;\n",
              "    }\n",
              "\n",
              "    .colab-df-convert {\n",
              "      background-color: #E8F0FE;\n",
              "      border: none;\n",
              "      border-radius: 50%;\n",
              "      cursor: pointer;\n",
              "      display: none;\n",
              "      fill: #1967D2;\n",
              "      height: 32px;\n",
              "      padding: 0 0 0 0;\n",
              "      width: 32px;\n",
              "    }\n",
              "\n",
              "    .colab-df-convert:hover {\n",
              "      background-color: #E2EBFA;\n",
              "      box-shadow: 0px 1px 2px rgba(60, 64, 67, 0.3), 0px 1px 3px 1px rgba(60, 64, 67, 0.15);\n",
              "      fill: #174EA6;\n",
              "    }\n",
              "\n",
              "    [theme=dark] .colab-df-convert {\n",
              "      background-color: #3B4455;\n",
              "      fill: #D2E3FC;\n",
              "    }\n",
              "\n",
              "    [theme=dark] .colab-df-convert:hover {\n",
              "      background-color: #434B5C;\n",
              "      box-shadow: 0px 1px 3px 1px rgba(0, 0, 0, 0.15);\n",
              "      filter: drop-shadow(0px 1px 2px rgba(0, 0, 0, 0.3));\n",
              "      fill: #FFFFFF;\n",
              "    }\n",
              "  </style>\n",
              "\n",
              "      <script>\n",
              "        const buttonEl =\n",
              "          document.querySelector('#df-245d16c0-25a1-4d0f-b384-03f8e594b319 button.colab-df-convert');\n",
              "        buttonEl.style.display =\n",
              "          google.colab.kernel.accessAllowed ? 'block' : 'none';\n",
              "\n",
              "        async function convertToInteractive(key) {\n",
              "          const element = document.querySelector('#df-245d16c0-25a1-4d0f-b384-03f8e594b319');\n",
              "          const dataTable =\n",
              "            await google.colab.kernel.invokeFunction('convertToInteractive',\n",
              "                                                     [key], {});\n",
              "          if (!dataTable) return;\n",
              "\n",
              "          const docLinkHtml = 'Like what you see? Visit the ' +\n",
              "            '<a target=\"_blank\" href=https://colab.research.google.com/notebooks/data_table.ipynb>data table notebook</a>'\n",
              "            + ' to learn more about interactive tables.';\n",
              "          element.innerHTML = '';\n",
              "          dataTable['output_type'] = 'display_data';\n",
              "          await google.colab.output.renderOutput(dataTable, element);\n",
              "          const docLink = document.createElement('div');\n",
              "          docLink.innerHTML = docLinkHtml;\n",
              "          element.appendChild(docLink);\n",
              "        }\n",
              "      </script>\n",
              "    </div>\n",
              "  </div>\n",
              "  "
            ]
          },
          "metadata": {},
          "execution_count": 42
        }
      ]
    },
    {
      "cell_type": "code",
      "source": [
        "print(\"n=1, add_one=False\")\n",
        "next(results)"
      ],
      "metadata": {
        "colab": {
          "base_uri": "https://localhost:8080/",
          "height": 318
        },
        "id": "qKFKvQ4cPqiZ",
        "outputId": "47fc5b00-68f3-49a1-c6a0-f85efe9caf3e"
      },
      "execution_count": null,
      "outputs": [
        {
          "output_type": "stream",
          "name": "stdout",
          "text": [
            "n=1, add_one=False\n"
          ]
        },
        {
          "output_type": "execute_result",
          "data": {
            "text/plain": [
              "           en         es         fr         in         it         nl  \\\n",
              "en  36.371757  40.059535  39.702794  40.492511  39.622698  38.958308   \n",
              "es  40.438080  34.070634  38.162037  45.074138  36.969993  39.200740   \n",
              "fr  42.959407  40.172122  35.501821  46.730897  39.333671  40.226404   \n",
              "in  39.590656  41.739211  42.484991  35.198957  41.600228  39.712417   \n",
              "it  39.809738  38.858505  38.006469  42.308940  35.492806  39.305264   \n",
              "nl  37.687547  39.543318  38.906589  39.835003  39.093587  35.395865   \n",
              "pt  44.575706  39.926568  40.928724  48.238234  41.553975  42.473191   \n",
              "tl  42.628175  45.157594  46.940896  40.570977  44.337482  44.306697   \n",
              "\n",
              "           pt         tl  \n",
              "en  40.517423  40.316823  \n",
              "es  35.483640  40.990842  \n",
              "fr  39.364370  47.123265  \n",
              "in  41.044720  37.320201  \n",
              "it  39.340681  41.738176  \n",
              "nl  39.623739  40.735282  \n",
              "pt  34.780559  44.019612  \n",
              "tl  45.054936  38.382964  "
            ],
            "text/html": [
              "\n",
              "  <div id=\"df-3e06c442-c527-4acc-94c8-0b228a6ea07b\">\n",
              "    <div class=\"colab-df-container\">\n",
              "      <div>\n",
              "<style scoped>\n",
              "    .dataframe tbody tr th:only-of-type {\n",
              "        vertical-align: middle;\n",
              "    }\n",
              "\n",
              "    .dataframe tbody tr th {\n",
              "        vertical-align: top;\n",
              "    }\n",
              "\n",
              "    .dataframe thead th {\n",
              "        text-align: right;\n",
              "    }\n",
              "</style>\n",
              "<table border=\"1\" class=\"dataframe\">\n",
              "  <thead>\n",
              "    <tr style=\"text-align: right;\">\n",
              "      <th></th>\n",
              "      <th>en</th>\n",
              "      <th>es</th>\n",
              "      <th>fr</th>\n",
              "      <th>in</th>\n",
              "      <th>it</th>\n",
              "      <th>nl</th>\n",
              "      <th>pt</th>\n",
              "      <th>tl</th>\n",
              "    </tr>\n",
              "  </thead>\n",
              "  <tbody>\n",
              "    <tr>\n",
              "      <th>en</th>\n",
              "      <td>36.371757</td>\n",
              "      <td>40.059535</td>\n",
              "      <td>39.702794</td>\n",
              "      <td>40.492511</td>\n",
              "      <td>39.622698</td>\n",
              "      <td>38.958308</td>\n",
              "      <td>40.517423</td>\n",
              "      <td>40.316823</td>\n",
              "    </tr>\n",
              "    <tr>\n",
              "      <th>es</th>\n",
              "      <td>40.438080</td>\n",
              "      <td>34.070634</td>\n",
              "      <td>38.162037</td>\n",
              "      <td>45.074138</td>\n",
              "      <td>36.969993</td>\n",
              "      <td>39.200740</td>\n",
              "      <td>35.483640</td>\n",
              "      <td>40.990842</td>\n",
              "    </tr>\n",
              "    <tr>\n",
              "      <th>fr</th>\n",
              "      <td>42.959407</td>\n",
              "      <td>40.172122</td>\n",
              "      <td>35.501821</td>\n",
              "      <td>46.730897</td>\n",
              "      <td>39.333671</td>\n",
              "      <td>40.226404</td>\n",
              "      <td>39.364370</td>\n",
              "      <td>47.123265</td>\n",
              "    </tr>\n",
              "    <tr>\n",
              "      <th>in</th>\n",
              "      <td>39.590656</td>\n",
              "      <td>41.739211</td>\n",
              "      <td>42.484991</td>\n",
              "      <td>35.198957</td>\n",
              "      <td>41.600228</td>\n",
              "      <td>39.712417</td>\n",
              "      <td>41.044720</td>\n",
              "      <td>37.320201</td>\n",
              "    </tr>\n",
              "    <tr>\n",
              "      <th>it</th>\n",
              "      <td>39.809738</td>\n",
              "      <td>38.858505</td>\n",
              "      <td>38.006469</td>\n",
              "      <td>42.308940</td>\n",
              "      <td>35.492806</td>\n",
              "      <td>39.305264</td>\n",
              "      <td>39.340681</td>\n",
              "      <td>41.738176</td>\n",
              "    </tr>\n",
              "    <tr>\n",
              "      <th>nl</th>\n",
              "      <td>37.687547</td>\n",
              "      <td>39.543318</td>\n",
              "      <td>38.906589</td>\n",
              "      <td>39.835003</td>\n",
              "      <td>39.093587</td>\n",
              "      <td>35.395865</td>\n",
              "      <td>39.623739</td>\n",
              "      <td>40.735282</td>\n",
              "    </tr>\n",
              "    <tr>\n",
              "      <th>pt</th>\n",
              "      <td>44.575706</td>\n",
              "      <td>39.926568</td>\n",
              "      <td>40.928724</td>\n",
              "      <td>48.238234</td>\n",
              "      <td>41.553975</td>\n",
              "      <td>42.473191</td>\n",
              "      <td>34.780559</td>\n",
              "      <td>44.019612</td>\n",
              "    </tr>\n",
              "    <tr>\n",
              "      <th>tl</th>\n",
              "      <td>42.628175</td>\n",
              "      <td>45.157594</td>\n",
              "      <td>46.940896</td>\n",
              "      <td>40.570977</td>\n",
              "      <td>44.337482</td>\n",
              "      <td>44.306697</td>\n",
              "      <td>45.054936</td>\n",
              "      <td>38.382964</td>\n",
              "    </tr>\n",
              "  </tbody>\n",
              "</table>\n",
              "</div>\n",
              "      <button class=\"colab-df-convert\" onclick=\"convertToInteractive('df-3e06c442-c527-4acc-94c8-0b228a6ea07b')\"\n",
              "              title=\"Convert this dataframe to an interactive table.\"\n",
              "              style=\"display:none;\">\n",
              "        \n",
              "  <svg xmlns=\"http://www.w3.org/2000/svg\" height=\"24px\"viewBox=\"0 0 24 24\"\n",
              "       width=\"24px\">\n",
              "    <path d=\"M0 0h24v24H0V0z\" fill=\"none\"/>\n",
              "    <path d=\"M18.56 5.44l.94 2.06.94-2.06 2.06-.94-2.06-.94-.94-2.06-.94 2.06-2.06.94zm-11 1L8.5 8.5l.94-2.06 2.06-.94-2.06-.94L8.5 2.5l-.94 2.06-2.06.94zm10 10l.94 2.06.94-2.06 2.06-.94-2.06-.94-.94-2.06-.94 2.06-2.06.94z\"/><path d=\"M17.41 7.96l-1.37-1.37c-.4-.4-.92-.59-1.43-.59-.52 0-1.04.2-1.43.59L10.3 9.45l-7.72 7.72c-.78.78-.78 2.05 0 2.83L4 21.41c.39.39.9.59 1.41.59.51 0 1.02-.2 1.41-.59l7.78-7.78 2.81-2.81c.8-.78.8-2.07 0-2.86zM5.41 20L4 18.59l7.72-7.72 1.47 1.35L5.41 20z\"/>\n",
              "  </svg>\n",
              "      </button>\n",
              "      \n",
              "  <style>\n",
              "    .colab-df-container {\n",
              "      display:flex;\n",
              "      flex-wrap:wrap;\n",
              "      gap: 12px;\n",
              "    }\n",
              "\n",
              "    .colab-df-convert {\n",
              "      background-color: #E8F0FE;\n",
              "      border: none;\n",
              "      border-radius: 50%;\n",
              "      cursor: pointer;\n",
              "      display: none;\n",
              "      fill: #1967D2;\n",
              "      height: 32px;\n",
              "      padding: 0 0 0 0;\n",
              "      width: 32px;\n",
              "    }\n",
              "\n",
              "    .colab-df-convert:hover {\n",
              "      background-color: #E2EBFA;\n",
              "      box-shadow: 0px 1px 2px rgba(60, 64, 67, 0.3), 0px 1px 3px 1px rgba(60, 64, 67, 0.15);\n",
              "      fill: #174EA6;\n",
              "    }\n",
              "\n",
              "    [theme=dark] .colab-df-convert {\n",
              "      background-color: #3B4455;\n",
              "      fill: #D2E3FC;\n",
              "    }\n",
              "\n",
              "    [theme=dark] .colab-df-convert:hover {\n",
              "      background-color: #434B5C;\n",
              "      box-shadow: 0px 1px 3px 1px rgba(0, 0, 0, 0.15);\n",
              "      filter: drop-shadow(0px 1px 2px rgba(0, 0, 0, 0.3));\n",
              "      fill: #FFFFFF;\n",
              "    }\n",
              "  </style>\n",
              "\n",
              "      <script>\n",
              "        const buttonEl =\n",
              "          document.querySelector('#df-3e06c442-c527-4acc-94c8-0b228a6ea07b button.colab-df-convert');\n",
              "        buttonEl.style.display =\n",
              "          google.colab.kernel.accessAllowed ? 'block' : 'none';\n",
              "\n",
              "        async function convertToInteractive(key) {\n",
              "          const element = document.querySelector('#df-3e06c442-c527-4acc-94c8-0b228a6ea07b');\n",
              "          const dataTable =\n",
              "            await google.colab.kernel.invokeFunction('convertToInteractive',\n",
              "                                                     [key], {});\n",
              "          if (!dataTable) return;\n",
              "\n",
              "          const docLinkHtml = 'Like what you see? Visit the ' +\n",
              "            '<a target=\"_blank\" href=https://colab.research.google.com/notebooks/data_table.ipynb>data table notebook</a>'\n",
              "            + ' to learn more about interactive tables.';\n",
              "          element.innerHTML = '';\n",
              "          dataTable['output_type'] = 'display_data';\n",
              "          await google.colab.output.renderOutput(dataTable, element);\n",
              "          const docLink = document.createElement('div');\n",
              "          docLink.innerHTML = docLinkHtml;\n",
              "          element.appendChild(docLink);\n",
              "        }\n",
              "      </script>\n",
              "    </div>\n",
              "  </div>\n",
              "  "
            ]
          },
          "metadata": {},
          "execution_count": 43
        }
      ]
    },
    {
      "cell_type": "code",
      "source": [
        "print(\"n=2, add_one=True\")\n",
        "next(results)"
      ],
      "metadata": {
        "id": "mTnYsGquPuIz"
      },
      "execution_count": null,
      "outputs": []
    },
    {
      "cell_type": "code",
      "source": [
        "print(\"n=2, add_one=False\")\n",
        "next(results)"
      ],
      "metadata": {
        "id": "ggYgPVNePvdc"
      },
      "execution_count": null,
      "outputs": []
    },
    {
      "cell_type": "code",
      "source": [
        "print(\"n=3, add_one=True\")\n",
        "next(results)"
      ],
      "metadata": {
        "id": "nHw7mP4XPxOk"
      },
      "execution_count": null,
      "outputs": []
    },
    {
      "cell_type": "code",
      "source": [
        "print(\"n=3, add_one=False\")\n",
        "next(results)"
      ],
      "metadata": {
        "id": "coHcv2UaPzGF"
      },
      "execution_count": null,
      "outputs": []
    },
    {
      "cell_type": "code",
      "source": [
        "print(\"n=4, add_one=True\")\n",
        "next(results)"
      ],
      "metadata": {
        "id": "HETKQCn-P068"
      },
      "execution_count": null,
      "outputs": []
    },
    {
      "cell_type": "code",
      "source": [
        "print(\"n=4, add_one=False\")\n",
        "next(results)"
      ],
      "metadata": {
        "id": "PKM-zwK7P1yw"
      },
      "execution_count": null,
      "outputs": []
    },
    {
      "cell_type": "markdown",
      "metadata": {
        "id": "cg4h5Cl0q2nR"
      },
      "source": [
        "**Part 6**\n",
        "\n",
        "Each line in the file test.csv contains a sentence and the language it belongs to. Write a function that uses your language models to classify the correct language of each sentence.\n",
        "\n",
        "Important note regarding the grading of this section: this is an open question, where a different solution will yield different accuracy scores. any solution that is not trivial (e.g. returning 'en' in all cases) will be excepted. We do reserve the right to give bonus points to exceptionally good/creative solutions."
      ]
    },
    {
      "cell_type": "code",
      "source": [
        "# Hyperparameters\n",
        "n_for_classify = 2"
      ],
      "metadata": {
        "id": "UE8AoUTblfzf"
      },
      "execution_count": null,
      "outputs": []
    },
    {
      "cell_type": "code",
      "source": [
        "all_language_models = {language : lm(n_for_classify, VOCAB, f'nlp-course/lm-languages-data-new/{language}.csv', False) for language in  ['en' ,'es', 'fr', 'in', 'it', 'nl', 'pt', 'tl']}"
      ],
      "metadata": {
        "id": "5grTmRqxVwG9"
      },
      "execution_count": null,
      "outputs": []
    },
    {
      "cell_type": "code",
      "metadata": {
        "id": "qD6IRIQLrlZF"
      },
      "source": [
        "def classify():\n",
        "  # TODO\n",
        "  n = n_for_classify\n",
        "  missing_value = 1e-10\n",
        "  df = pd.read_csv('nlp-course/lm-languages-data-new/test.csv')\n",
        "\n",
        "  for row_index, row in df.iterrows():\n",
        "    best_score = float('inf')\n",
        "    best_lang = None\n",
        "    for lang, model in all_language_models.items():\n",
        "      entropy = 0\n",
        "      counter = 0\n",
        "      for window_start in range(len(row['tweet_text']) - n):\n",
        "        counter += 1\n",
        "        key = row['tweet_text'][window_start : window_start + n-1]\n",
        "        value = row['tweet_text'][window_start + n-1]\n",
        "        if value in model[key]:\n",
        "          entropy -= math.log(model[key][value], 2)\n",
        "        else:\n",
        "          entropy -= math.log(missing_value, 2)\n",
        "\n",
        "      if 2 ** (entropy / counter) < best_score:\n",
        "        best_lang = lang\n",
        "        best_score = 2 ** (entropy / counter)\n",
        "\n",
        "    df.at[row_index, 'Prediction'] = best_lang\n",
        "\n",
        "  return df\n",
        "      \n",
        "\n",
        "clasification_result = classify()"
      ],
      "execution_count": null,
      "outputs": []
    },
    {
      "cell_type": "code",
      "source": [
        "clasification_result "
      ],
      "metadata": {
        "colab": {
          "base_uri": "https://localhost:8080/",
          "height": 424
        },
        "id": "2VABWk0jea2J",
        "outputId": "acf67802-cf05-4c65-ea09-56fed363fc8b"
      },
      "execution_count": null,
      "outputs": [
        {
          "output_type": "execute_result",
          "data": {
            "text/plain": [
              "                tweet_id                                         tweet_text  \\\n",
              "0     845394879479996416  RT @jarsofshine: In 08 I had a volunteer who h...   \n",
              "1     836313846675619841  IN OGNI CASO CON LE PAGHE CHE GIRANO IN Africa...   \n",
              "2     836259442328940544  @jaynaldmase @acobasilianne @dingDANGdantes @d...   \n",
              "3     847729104472358912  Daags voor @RondeVlaanderen, @VoltaClassic als...   \n",
              "4     836491739699412992  RT @ertsul20: Susuportahan kita hanggang sa du...   \n",
              "...                  ...                                                ...   \n",
              "7994  836250659464761344  La triste historia que inspiró \"Tu falta de qu...   \n",
              "7995  847676283089637380  RT @ShahwalAdli_: Aku tak bersuara tak bermakn...   \n",
              "7996  836319299279138816    @Benji_Mascolo DEVI TAGLIARE QUEI CAPELLI 😠😡😠😂❤   \n",
              "7997  836258179847716865        Assistimos de camarote varias brigas ontem!   \n",
              "7998  845394890829807616  RT @ESPNNBA: #TheJump Distant Replay: 7 years ...   \n",
              "\n",
              "     label Prediction  \n",
              "0       en         en  \n",
              "1       it         it  \n",
              "2       tl         tl  \n",
              "3       nl         nl  \n",
              "4       tl         tl  \n",
              "...    ...        ...  \n",
              "7994    es         es  \n",
              "7995    in         in  \n",
              "7996    it         pt  \n",
              "7997    pt         pt  \n",
              "7998    en         en  \n",
              "\n",
              "[7999 rows x 4 columns]"
            ],
            "text/html": [
              "\n",
              "  <div id=\"df-257df4f5-1faa-4ad5-9960-98c4cf098917\">\n",
              "    <div class=\"colab-df-container\">\n",
              "      <div>\n",
              "<style scoped>\n",
              "    .dataframe tbody tr th:only-of-type {\n",
              "        vertical-align: middle;\n",
              "    }\n",
              "\n",
              "    .dataframe tbody tr th {\n",
              "        vertical-align: top;\n",
              "    }\n",
              "\n",
              "    .dataframe thead th {\n",
              "        text-align: right;\n",
              "    }\n",
              "</style>\n",
              "<table border=\"1\" class=\"dataframe\">\n",
              "  <thead>\n",
              "    <tr style=\"text-align: right;\">\n",
              "      <th></th>\n",
              "      <th>tweet_id</th>\n",
              "      <th>tweet_text</th>\n",
              "      <th>label</th>\n",
              "      <th>Prediction</th>\n",
              "    </tr>\n",
              "  </thead>\n",
              "  <tbody>\n",
              "    <tr>\n",
              "      <th>0</th>\n",
              "      <td>845394879479996416</td>\n",
              "      <td>RT @jarsofshine: In 08 I had a volunteer who h...</td>\n",
              "      <td>en</td>\n",
              "      <td>en</td>\n",
              "    </tr>\n",
              "    <tr>\n",
              "      <th>1</th>\n",
              "      <td>836313846675619841</td>\n",
              "      <td>IN OGNI CASO CON LE PAGHE CHE GIRANO IN Africa...</td>\n",
              "      <td>it</td>\n",
              "      <td>it</td>\n",
              "    </tr>\n",
              "    <tr>\n",
              "      <th>2</th>\n",
              "      <td>836259442328940544</td>\n",
              "      <td>@jaynaldmase @acobasilianne @dingDANGdantes @d...</td>\n",
              "      <td>tl</td>\n",
              "      <td>tl</td>\n",
              "    </tr>\n",
              "    <tr>\n",
              "      <th>3</th>\n",
              "      <td>847729104472358912</td>\n",
              "      <td>Daags voor @RondeVlaanderen, @VoltaClassic als...</td>\n",
              "      <td>nl</td>\n",
              "      <td>nl</td>\n",
              "    </tr>\n",
              "    <tr>\n",
              "      <th>4</th>\n",
              "      <td>836491739699412992</td>\n",
              "      <td>RT @ertsul20: Susuportahan kita hanggang sa du...</td>\n",
              "      <td>tl</td>\n",
              "      <td>tl</td>\n",
              "    </tr>\n",
              "    <tr>\n",
              "      <th>...</th>\n",
              "      <td>...</td>\n",
              "      <td>...</td>\n",
              "      <td>...</td>\n",
              "      <td>...</td>\n",
              "    </tr>\n",
              "    <tr>\n",
              "      <th>7994</th>\n",
              "      <td>836250659464761344</td>\n",
              "      <td>La triste historia que inspiró \"Tu falta de qu...</td>\n",
              "      <td>es</td>\n",
              "      <td>es</td>\n",
              "    </tr>\n",
              "    <tr>\n",
              "      <th>7995</th>\n",
              "      <td>847676283089637380</td>\n",
              "      <td>RT @ShahwalAdli_: Aku tak bersuara tak bermakn...</td>\n",
              "      <td>in</td>\n",
              "      <td>in</td>\n",
              "    </tr>\n",
              "    <tr>\n",
              "      <th>7996</th>\n",
              "      <td>836319299279138816</td>\n",
              "      <td>@Benji_Mascolo DEVI TAGLIARE QUEI CAPELLI 😠😡😠😂❤</td>\n",
              "      <td>it</td>\n",
              "      <td>pt</td>\n",
              "    </tr>\n",
              "    <tr>\n",
              "      <th>7997</th>\n",
              "      <td>836258179847716865</td>\n",
              "      <td>Assistimos de camarote varias brigas ontem!</td>\n",
              "      <td>pt</td>\n",
              "      <td>pt</td>\n",
              "    </tr>\n",
              "    <tr>\n",
              "      <th>7998</th>\n",
              "      <td>845394890829807616</td>\n",
              "      <td>RT @ESPNNBA: #TheJump Distant Replay: 7 years ...</td>\n",
              "      <td>en</td>\n",
              "      <td>en</td>\n",
              "    </tr>\n",
              "  </tbody>\n",
              "</table>\n",
              "<p>7999 rows × 4 columns</p>\n",
              "</div>\n",
              "      <button class=\"colab-df-convert\" onclick=\"convertToInteractive('df-257df4f5-1faa-4ad5-9960-98c4cf098917')\"\n",
              "              title=\"Convert this dataframe to an interactive table.\"\n",
              "              style=\"display:none;\">\n",
              "        \n",
              "  <svg xmlns=\"http://www.w3.org/2000/svg\" height=\"24px\"viewBox=\"0 0 24 24\"\n",
              "       width=\"24px\">\n",
              "    <path d=\"M0 0h24v24H0V0z\" fill=\"none\"/>\n",
              "    <path d=\"M18.56 5.44l.94 2.06.94-2.06 2.06-.94-2.06-.94-.94-2.06-.94 2.06-2.06.94zm-11 1L8.5 8.5l.94-2.06 2.06-.94-2.06-.94L8.5 2.5l-.94 2.06-2.06.94zm10 10l.94 2.06.94-2.06 2.06-.94-2.06-.94-.94-2.06-.94 2.06-2.06.94z\"/><path d=\"M17.41 7.96l-1.37-1.37c-.4-.4-.92-.59-1.43-.59-.52 0-1.04.2-1.43.59L10.3 9.45l-7.72 7.72c-.78.78-.78 2.05 0 2.83L4 21.41c.39.39.9.59 1.41.59.51 0 1.02-.2 1.41-.59l7.78-7.78 2.81-2.81c.8-.78.8-2.07 0-2.86zM5.41 20L4 18.59l7.72-7.72 1.47 1.35L5.41 20z\"/>\n",
              "  </svg>\n",
              "      </button>\n",
              "      \n",
              "  <style>\n",
              "    .colab-df-container {\n",
              "      display:flex;\n",
              "      flex-wrap:wrap;\n",
              "      gap: 12px;\n",
              "    }\n",
              "\n",
              "    .colab-df-convert {\n",
              "      background-color: #E8F0FE;\n",
              "      border: none;\n",
              "      border-radius: 50%;\n",
              "      cursor: pointer;\n",
              "      display: none;\n",
              "      fill: #1967D2;\n",
              "      height: 32px;\n",
              "      padding: 0 0 0 0;\n",
              "      width: 32px;\n",
              "    }\n",
              "\n",
              "    .colab-df-convert:hover {\n",
              "      background-color: #E2EBFA;\n",
              "      box-shadow: 0px 1px 2px rgba(60, 64, 67, 0.3), 0px 1px 3px 1px rgba(60, 64, 67, 0.15);\n",
              "      fill: #174EA6;\n",
              "    }\n",
              "\n",
              "    [theme=dark] .colab-df-convert {\n",
              "      background-color: #3B4455;\n",
              "      fill: #D2E3FC;\n",
              "    }\n",
              "\n",
              "    [theme=dark] .colab-df-convert:hover {\n",
              "      background-color: #434B5C;\n",
              "      box-shadow: 0px 1px 3px 1px rgba(0, 0, 0, 0.15);\n",
              "      filter: drop-shadow(0px 1px 2px rgba(0, 0, 0, 0.3));\n",
              "      fill: #FFFFFF;\n",
              "    }\n",
              "  </style>\n",
              "\n",
              "      <script>\n",
              "        const buttonEl =\n",
              "          document.querySelector('#df-257df4f5-1faa-4ad5-9960-98c4cf098917 button.colab-df-convert');\n",
              "        buttonEl.style.display =\n",
              "          google.colab.kernel.accessAllowed ? 'block' : 'none';\n",
              "\n",
              "        async function convertToInteractive(key) {\n",
              "          const element = document.querySelector('#df-257df4f5-1faa-4ad5-9960-98c4cf098917');\n",
              "          const dataTable =\n",
              "            await google.colab.kernel.invokeFunction('convertToInteractive',\n",
              "                                                     [key], {});\n",
              "          if (!dataTable) return;\n",
              "\n",
              "          const docLinkHtml = 'Like what you see? Visit the ' +\n",
              "            '<a target=\"_blank\" href=https://colab.research.google.com/notebooks/data_table.ipynb>data table notebook</a>'\n",
              "            + ' to learn more about interactive tables.';\n",
              "          element.innerHTML = '';\n",
              "          dataTable['output_type'] = 'display_data';\n",
              "          await google.colab.output.renderOutput(dataTable, element);\n",
              "          const docLink = document.createElement('div');\n",
              "          docLink.innerHTML = docLinkHtml;\n",
              "          element.appendChild(docLink);\n",
              "        }\n",
              "      </script>\n",
              "    </div>\n",
              "  </div>\n",
              "  "
            ]
          },
          "metadata": {},
          "execution_count": 86
        }
      ]
    },
    {
      "cell_type": "markdown",
      "metadata": {
        "id": "q5ECmLd3rktZ"
      },
      "source": [
        "**Part 7**\n",
        "\n",
        "Calculate the F1 score of your output from part 6. (hint: you can use https://scikit-learn.org/stable/modules/generated/sklearn.metrics.f1_score.html). \n"
      ]
    },
    {
      "cell_type": "code",
      "metadata": {
        "id": "VOBO3YQls66r",
        "colab": {
          "base_uri": "https://localhost:8080/"
        },
        "outputId": "b38790f2-373f-44e7-cf29-a1da475a73fa"
      },
      "source": [
        "def calc_f1(result):\n",
        "  # TODO\n",
        "  return f1_score(result['label'].tolist(), result['Prediction'].tolist(), average = 'weighted')\n",
        "\n",
        "\n",
        "calc_f1(clasification_result)"
      ],
      "execution_count": null,
      "outputs": [
        {
          "output_type": "execute_result",
          "data": {
            "text/plain": [
              "0.8634128348679359"
            ]
          },
          "metadata": {},
          "execution_count": 93
        }
      ]
    },
    {
      "cell_type": "markdown",
      "metadata": {
        "id": "iEtckSWNANqW"
      },
      "source": [
        "# **Good luck!**"
      ]
    }
  ]
}