{
  "nbformat": 4,
  "nbformat_minor": 0,
  "metadata": {
    "colab": {
      "name": "HW 2 - tagging",
      "provenance": [],
      "collapsed_sections": [],
      "include_colab_link": true
    },
    "kernelspec": {
      "name": "python3",
      "display_name": "Python 3"
    }
  },
  "cells": [
    {
      "cell_type": "markdown",
      "metadata": {
        "id": "view-in-github",
        "colab_type": "text"
      },
      "source": [
        "<a href=\"https://colab.research.google.com/github/ItaiKaplan/NLP/blob/main/HW_2_tagging.ipynb\" target=\"_parent\"><img src=\"https://colab.research.google.com/assets/colab-badge.svg\" alt=\"Open In Colab\"/></a>"
      ]
    },
    {
      "cell_type": "markdown",
      "metadata": {
        "id": "n0zB2BpE6DhW"
      },
      "source": [
        "# Assignment 2\n",
        "\n",
        "This assignment is about training and evaluating a POS tagger with some real data. The dataset is available through the Universal Dependencies (https://universaldependencies.org/) (UD) project. To get to know the project, please visit https://universaldependencies.org/introduction.html)"
      ]
    },
    {
      "cell_type": "code",
      "metadata": {
        "colab": {
          "base_uri": "https://localhost:8080/"
        },
        "id": "iRm7zcfq56HF",
        "outputId": "8be3abce-f457-4755-adce-02e674a9426c"
      },
      "source": [
        "import numpy as np\n",
        "import operator\n",
        "import nltk\n",
        "\n",
        "!pip install conllutils\n",
        "import conllutils\n",
        "from collections import defaultdict, Counter\n",
        "import pandas as pd"
      ],
      "execution_count": null,
      "outputs": [
        {
          "output_type": "stream",
          "name": "stdout",
          "text": [
            "Requirement already satisfied: conllutils in /usr/local/lib/python3.7/dist-packages (1.1.4)\n",
            "Requirement already satisfied: numpy in /usr/local/lib/python3.7/dist-packages (from conllutils) (1.21.6)\n"
          ]
        }
      ]
    },
    {
      "cell_type": "markdown",
      "metadata": {
        "id": "UH-Xvqip6Teu"
      },
      "source": [
        "**Part 1** (getting the data)\n",
        "\n",
        "You can download the dataset files directly from the UD website, but it will let you only download all the languages in one compressed file. In this assignment you will be working with th GUM dataset, which you can download directly from:\n",
        "https://github.com/UniversalDependencies/UD_English-GUM.\n",
        "Please download it to your colab machine.\n",
        "\n"
      ]
    },
    {
      "cell_type": "code",
      "metadata": {
        "id": "nsZsyTVC6Sw0",
        "colab": {
          "base_uri": "https://localhost:8080/"
        },
        "outputId": "a186193d-e440-4cbd-840c-91f2e8e0137d"
      },
      "source": [
        "!git clone https://github.com/UniversalDependencies/UD_English-GUM"
      ],
      "execution_count": null,
      "outputs": [
        {
          "output_type": "stream",
          "name": "stdout",
          "text": [
            "Cloning into 'UD_English-GUM'...\n",
            "remote: Enumerating objects: 3705, done.\u001b[K\n",
            "remote: Counting objects: 100% (7/7), done.\u001b[K\n",
            "remote: Compressing objects: 100% (3/3), done.\u001b[K\n",
            "remote: Total 3705 (delta 5), reused 4 (delta 4), pack-reused 3698\u001b[K\n",
            "Receiving objects: 100% (3705/3705), 30.77 MiB | 23.57 MiB/s, done.\n",
            "Resolving deltas: 100% (3355/3355), done.\n"
          ]
        }
      ]
    },
    {
      "cell_type": "markdown",
      "metadata": {
        "id": "CZZGOtoteWHz"
      },
      "source": [
        "We will use the (train/dev/test) files:\n",
        "\n",
        "UD_English-GUM/en_gum-ud-train.conllu\n",
        "\n",
        "UD_English-GUM/en_gum-ud-dev.conllu\n",
        "\n",
        "UD_English-GUM/en_gum-ud-test.conllu\n",
        "\n",
        "They are all formatted in the conllu format. You may read about it [here](https://universaldependencies.org/format.html). There is a utility library **conllutils**, which can help you read the data into the memory. It has already been installed and imported above.\n",
        "\n",
        "You should write a code that reads the three datasets into memory. You may choose the data structure by yourself. As you can see, every word is represented by a line, with columns representing specific features. We are only interested in the first and fourth columns, corresponding to the word and its POS tag."
      ]
    },
    {
      "cell_type": "code",
      "source": [
        "def clean_data(data):\n",
        "  return [sentence for sentence in data if all(['xpos' in word for word in sentence])]"
      ],
      "metadata": {
        "id": "axsJ_aHgdXeh"
      },
      "execution_count": null,
      "outputs": []
    },
    {
      "cell_type": "code",
      "metadata": {
        "id": "v7A0-DjWg2JW"
      },
      "source": [
        "# Your code goes here\n",
        "train_set = clean_data(conllutils.pipe().read_conllu('UD_English-GUM/en_gum-ud-train.conllu').collect())\n",
        "dev_set = clean_data(conllutils.pipe().read_conllu('UD_English-GUM/en_gum-ud-dev.conllu').collect())\n",
        "test_set = clean_data(conllutils.pipe().read_conllu('UD_English-GUM/en_gum-ud-test.conllu').collect())\n",
        "\n",
        "# Give indices to words and xpos\n",
        "indices = conllutils.pipe().read_conllu(\n",
        "    'UD_English-GUM/en_gum-ud-train.conllu').pipe().create_index(fields={'form', 'xpos'})\n",
        "vocab = set([word['form'] for sentence in train_set for word in sentence])\n",
        "word_indices = {word: i for i, word in enumerate(vocab)}\n",
        "index_to_word = {v: k for k, v in word_indices.items()}\n",
        "xpos_indices = indices['xpos']\n",
        "xpos_indices = {k: v-1 for k, v in xpos_indices.items()} # Start with 0 instead of 1\n",
        "index_to_xpos = {v: k for k, v in xpos_indices.items()}\n",
        "num_xpos = len(xpos_indices)\n",
        "vocab_length = len(word_indices)"
      ],
      "execution_count": null,
      "outputs": []
    },
    {
      "cell_type": "code",
      "source": [
        "print(train_set[0][0]['form'])\n",
        "print(train_set[0][0]['xpos'])\n",
        "print(num_xpos)\n",
        "print(vocab_length)"
      ],
      "metadata": {
        "colab": {
          "base_uri": "https://localhost:8080/"
        },
        "id": "LZWSC9Z02Q0A",
        "outputId": "eeea17a2-32a0-4de3-dfe9-49ab5048dfb2"
      },
      "execution_count": null,
      "outputs": [
        {
          "output_type": "stream",
          "name": "stdout",
          "text": [
            "Aesthetic\n",
            "JJ\n",
            "44\n",
            "12163\n"
          ]
        }
      ]
    },
    {
      "cell_type": "markdown",
      "metadata": {
        "id": "q0Z9BMNM7EP3"
      },
      "source": [
        "**Part 2**\n",
        "\n",
        "Write a class **simple_tagger**, with methods *train* and *evaluate*. The method *train* receives the data as a list of sentences, and use it for training the tagger. In this case, it should learn a simple dictionary that maps words to tags, defined as the most frequent tag for every word (in case there is more than one most frequent tag, you may select one of them randomly). The dictionary should be stored as a class member for evaluation.\n",
        "\n",
        "The method *evaluate* receives the data as a list of sentences, and use it to evaluate the tagger performance. Specifically, you should calculate the word and sentence level accuracy.\n",
        "The evaluation process is simply going word by word, querying the dictionary (created by the train method) for each word’s tag and compare it to the true tag of that word. The word-level accuracy is the number of successes divided by the number of words. For OOV (out of vocabulary, or unknown) words, the tagger should assign the most frequent tag in the entire training set (i.e., the mode). The function should return the two numbers: word level accuracy and sentence level accuracy.\n"
      ]
    },
    {
      "cell_type": "code",
      "metadata": {
        "id": "MtivZLBH7dXq"
      },
      "source": [
        "class simple_tagger:\n",
        "  def train(self, data):\n",
        "    # Count all tags in relevant context\n",
        "    all_tags_count = defaultdict(Counter)\n",
        "    for sentence in data:\n",
        "      for word in sentence:\n",
        "        all_tags_count[word['form']][word['xpos']] += 1\n",
        "    \n",
        "    tagger = dict()\n",
        "    most_frequent_tag = None\n",
        "    highest_freq = -float('inf')\n",
        "    for word, tags_count in all_tags_count.items():\n",
        "      curr_freq_tag = max(tags_count, key=tags_count.get)\n",
        "      curr_freq = tags_count[curr_freq_tag]\n",
        "      if curr_freq > highest_freq:\n",
        "        highest_freq = curr_freq\n",
        "        most_frequenct_tag = curr_freq_tag\n",
        "\n",
        "      tagger[word] = curr_freq_tag\n",
        "\n",
        "    self._tagger = defaultdict(lambda: most_frequent_tag, tagger)\n",
        "    \n",
        "  \n",
        "  def evaluate(self, data):\n",
        "    word_level_acc = 0\n",
        "    senetence_level_acc = 0\n",
        "    word_count = 0\n",
        "    sentence_count = 0\n",
        "\n",
        "    for sentence in data:\n",
        "      accurate_sentence = True\n",
        "      sentence_count += 1\n",
        "      for word in sentence:\n",
        "        word_count += 1\n",
        "        if self._tagger[word['form']] == word['xpos']:\n",
        "          word_level_acc += 1\n",
        "        else:\n",
        "          accurate_sentence = False\n",
        "          \n",
        "      if accurate_sentence:\n",
        "        senetence_level_acc += 1\n",
        "    \n",
        "    return word_level_acc / word_count, senetence_level_acc / sentence_count\n"
      ],
      "execution_count": null,
      "outputs": []
    },
    {
      "cell_type": "code",
      "source": [
        "test_simple_tagger = simple_tagger()\n",
        "test_simple_tagger.train(train_set)\n",
        "simple_tagger_dev_word_acc, simple_tagger_dev_sentence_acc = test_simple_tagger.evaluate(dev_set)\n",
        "simple_tagger_test_word_acc, simple_tagger_test_sentence_acc = test_simple_tagger.evaluate(test_set)\n",
        "print(f\"Word level: {simple_tagger_test_word_acc}, Sentence level: {simple_tagger_test_sentence_acc}\")"
      ],
      "metadata": {
        "colab": {
          "base_uri": "https://localhost:8080/"
        },
        "id": "7exdLnd4AYyP",
        "outputId": "eb8f1e7b-3dcc-4cf1-f956-777014631751"
      },
      "execution_count": null,
      "outputs": [
        {
          "output_type": "stream",
          "name": "stdout",
          "text": [
            "Word level: 0.7921648835745752, Sentence level 0.14\n"
          ]
        }
      ]
    },
    {
      "cell_type": "markdown",
      "metadata": {
        "id": "etK9iZIq8i0X"
      },
      "source": [
        "**Part 3**\n",
        "\n",
        "Similar to part 2, write the class hmm_tagger, which implements HMM tagging. The method *train* should build the matrices A, B and Pi, from the data as discussed in class. The method *evaluate* should find the best tag sequence for every input sentence using he Viterbi decoding algorithm, and then calculate the word and sentence level accuracy using the gold-standard tags. You should implement the Viterbi algorithm in the next block and call it from your class.\n",
        "\n",
        "Additional guidance:\n",
        "1. The matrix B represents the emissions probabilities. Since B is a matrix, you should build a dictionary that maps every unique word in the corpus to a serial numeric id (starting with 0). This way columns in B represents word ids.\n",
        "2. During the evaluation, you should first convert each word into it’s index and then create the observation array to be given to Viterbi, as a list of ids. OOV words should be assigned with a random tag. To make sure Viterbi works appropriately, you can simply break the sentence into multiple segments every time you see an OOV word, and decode every segment individually using Viterbi.\n"
      ]
    },
    {
      "cell_type": "code",
      "source": [
        "# Viterbi\n",
        "def viterbi (observations, A, B, Pi, num_xpos_override=None):\n",
        "  #...\n",
        "  N = num_xpos_override if num_xpos_override is not None else num_xpos\n",
        "  T = len(observations)\n",
        "  delta = np.zeros((N, T,), dtype=np.float64)\n",
        "  psi = np.zeros((N, T,), dtype=np.float64)\n",
        "\n",
        "  for n in range(N):\n",
        "    delta[n, 0] = B[n, observations[0]] * Pi[n]\n",
        "    # Psi is already zero\n",
        "  \n",
        "  for t in range(1, T):\n",
        "    for n in range(N):\n",
        "      prev_values = np.array([delta[j, t-1] * A[j, n] for j in range(N)])\n",
        "      delta[n, t] = B[n, observations[t]] * np.max(prev_values)\n",
        "      psi[n, t] = np.argmax(prev_values)\n",
        "\n",
        "  best_sequence = np.zeros((T,), dtype=int)\n",
        "  best_sequence[T - 1] = np.argmax(delta[:, T - 1])\n",
        "  for t in reversed(range(0, T-1)):\n",
        "    best_sequence[t] = psi[best_sequence[t + 1], t + 1]\n",
        "\n",
        "  return best_sequence\n",
        "\n",
        "# A simple example to run the Viterbi algorithm:\n",
        "#( Same as in presentation \"NLP 3 - Tagging\" on slide 35)\n",
        "\n",
        "# A = np.array([[0.3, 0.7], [0.2, 0.8]])\n",
        "# B = np.array([[0.1, 0.1, 0.3, 0.5], [0.3, 0.3, 0.2, 0.2]])\n",
        "# Pi = np.array([0.4, 0.6])\n",
        "# print(viterbi([0, 3, 2, 0], A, B, Pi))\n",
        "# Expected output: 1, 1, 1, 1"
      ],
      "metadata": {
        "id": "jPUN-a1piQoo"
      },
      "execution_count": null,
      "outputs": []
    },
    {
      "cell_type": "code",
      "source": [
        "A = np.array([[0.3, 0.7], [0.2, 0.8]])\n",
        "B = np.array([[0.1, 0.1, 0.3, 0.5], [0.3, 0.3, 0.2, 0.2]])\n",
        "Pi = np.array([0.4, 0.6])\n",
        "print(viterbi([0, 3, 2, 0], A, B, Pi, 2))\n",
        "# Expected output: 1, 1, 1, 1"
      ],
      "metadata": {
        "colab": {
          "base_uri": "https://localhost:8080/"
        },
        "id": "tewdWgvJwfij",
        "outputId": "cadacc48-c6a7-4604-9d62-bdb2a37933aa"
      },
      "execution_count": null,
      "outputs": [
        {
          "output_type": "stream",
          "name": "stdout",
          "text": [
            "[1 1 1 1]\n"
          ]
        }
      ]
    },
    {
      "cell_type": "code",
      "metadata": {
        "id": "TpH7GuiQ9L6W"
      },
      "source": [
        "class hmm_tagger:\n",
        "  def train(self, data):\n",
        "    self.PI = np.zeros((num_xpos,), dtype=np.float64)\n",
        "    self.A = np.zeros((num_xpos, num_xpos,), dtype=np.float64)\n",
        "    self.B = np.zeros((num_xpos, vocab_length,), dtype=np.float64)\n",
        "\n",
        "    tag_counts = np.zeros((num_xpos,), dtype=np.float64)\n",
        "    sentence_count = 0\n",
        "\n",
        "    for sentence in data:\n",
        "      sentence_count += 1\n",
        "      prev_tag_index = None\n",
        "      for i, word in enumerate(sentence):        \n",
        "        curr_tag_index = xpos_indices[word['xpos']]\n",
        "        curr_word_index = word_indices[word['form']]\n",
        "        if i != 0:\n",
        "          self.A[prev_tag_index, curr_tag_index] += 1\n",
        "\n",
        "        self.B[curr_tag_index, curr_word_index] += 1\n",
        "        tag_counts[curr_tag_index] += 1\n",
        "        prev_tag_index = curr_tag_index\n",
        "    \n",
        "    self.PI = tag_counts / np.sum(tag_counts)\n",
        "    self.A = (self.A.T * (1 / tag_counts)).T\n",
        "    self.B = (self.B.T * (1 / tag_counts)).T\n",
        "    \n",
        "\n",
        "  def evaluate(self, data):\n",
        "    word_level_acc = 0\n",
        "    senetence_level_acc = 0\n",
        "    word_count = 0\n",
        "    sentence_count = 0\n",
        "\n",
        "    for sentence in data:\n",
        "      accurate_sentence = True\n",
        "      sentence_count += 1\n",
        "      observation_buffer = list()\n",
        "      predicted_sequence = list()\n",
        "\n",
        "      for word in sentence:\n",
        "        if word['form'] in word_indices:\n",
        "          observation_buffer.append(word_indices[word['form']])\n",
        "          continue\n",
        "        \n",
        "        predicted_tag = np.random.randint(num_xpos)\n",
        "        if len(observation_buffer) > 0:\n",
        "          predicted_sequence.extend(viterbi(observation_buffer, self.A, self.B, self.PI))\n",
        "          observation_buffer = list()\n",
        "\n",
        "        predicted_sequence.append(predicted_tag)\n",
        "\n",
        "      if len(observation_buffer) > 0:\n",
        "            predicted_sequence.extend(viterbi(observation_buffer, self.A, self.B, self.PI))\n",
        "            observation_buffer = list()\n",
        "\n",
        "      for i, word in enumerate(sentence):\n",
        "        word_count += 1\n",
        "        predicted = index_to_xpos[predicted_sequence[i]]\n",
        "        actual = word['xpos']\n",
        "        if predicted == actual:\n",
        "          word_level_acc += 1\n",
        "        else:\n",
        "          accurate_sentence = False\n",
        "      \n",
        "      senetence_level_acc += int(accurate_sentence)\n",
        "    \n",
        "    return word_level_acc / word_count, senetence_level_acc / sentence_count"
      ],
      "execution_count": null,
      "outputs": []
    },
    {
      "cell_type": "code",
      "source": [
        "test_hmm_tagger = hmm_tagger()\n",
        "test_hmm_tagger.train(train_set)\n",
        "hmm_tagger_dev_word_acc, hmm_tagger_dev_sentence_acc = test_hmm_tagger.evaluate(dev_set)\n",
        "hmm_tagger_test_word_acc, hmm_tagger_test_sentence_acc = test_hmm_tagger.evaluate(test_set)\n",
        "print(f\"Word level: {hmm_tagger_test_word_acc}, Sentence level: {hmm_tagger_test_sentence_acc}\")"
      ],
      "metadata": {
        "id": "YMTlmvu5Ug9Z"
      },
      "execution_count": null,
      "outputs": []
    },
    {
      "cell_type": "markdown",
      "metadata": {
        "id": "-YZO0uGL-4S-"
      },
      "source": [
        "**Part 4**\n",
        "\n",
        "Compare the results obtained from both taggers and a MEMM tagger, implemented by NLTK (a known NLP library), over both, the dev and test datasets. To train the NLTK MEMM tagger you should execute the following lines (it may take some time to train...):"
      ]
    },
    {
      "cell_type": "code",
      "source": [
        "# Convert to wanted form\n",
        "train_data = list()\n",
        "dev_data = list()\n",
        "test_data = list()\n",
        "\n",
        "for sentence in train_set:\n",
        "  train_data.append([(word['form'], word['xpos']) for word in sentence])\n",
        "\n",
        "for sentence in dev_set:\n",
        "  dev_data.append([(word['form'], word['xpos']) for word in sentence])\n",
        "\n",
        "for sentence in test_set:\n",
        "  test_data.append([(word['form'], word['xpos']) for word in sentence])"
      ],
      "metadata": {
        "id": "CzqoZkcfDiy_"
      },
      "execution_count": null,
      "outputs": []
    },
    {
      "cell_type": "code",
      "metadata": {
        "id": "KYhtboJm_Iyx",
        "colab": {
          "base_uri": "https://localhost:8080/"
        },
        "outputId": "2ab2d496-0c8b-4d9b-9359-4d7cc5c2329a"
      },
      "source": [
        "from nltk.tag import tnt \n",
        "\n",
        "tnt_pos_tagger = tnt.TnT()\n",
        "tnt_pos_tagger.train(train_data)\n",
        "print(tnt_pos_tagger.evaluate(test_data))"
      ],
      "execution_count": null,
      "outputs": [
        {
          "output_type": "stream",
          "name": "stdout",
          "text": [
            "0.8214285714285714\n"
          ]
        }
      ]
    },
    {
      "cell_type": "code",
      "source": [
        "# Evaluate word and sentence level accuracy:\n",
        "memm_tagger_dev_word_acc = tnt_pos_tagger.evaluate(dev_data)\n",
        "memm_tagger_test_word_acc = tnt_pos_tagger.evaluate(test_data)\n",
        "\n",
        "memm_tagger_dev_sentence_acc = 0\n",
        "memm_tagger_test_sentence_acc = 0\n",
        "\n",
        "for sentence in dev_set:\n",
        "  converted_sentence = [[(word['form'], word['xpos']) for word in sentence]]\n",
        "  memm_tagger_dev_sentence_acc += tnt_pos_tagger.evaluate(converted_sentence) == 1\n",
        "\n",
        "memm_tagger_dev_sentence_acc /= len(dev_set)\n",
        "\n",
        "for sentence in test_set:\n",
        "  converted_sentence = [[(word['form'], word['xpos']) for word in sentence]]\n",
        "  memm_tagger_test_sentence_acc += tnt_pos_tagger.evaluate(converted_sentence) == 1\n",
        "\n",
        "memm_tagger_test_sentence_acc /= len(test_set)"
      ],
      "metadata": {
        "id": "7tBsiVosHNnR"
      },
      "execution_count": null,
      "outputs": []
    },
    {
      "cell_type": "markdown",
      "metadata": {
        "id": "5DIvvzsq_U-o"
      },
      "source": [
        "Print both, word level and sentence level accuracy for all the three taggers in a table."
      ]
    },
    {
      "cell_type": "code",
      "metadata": {
        "id": "V32202cikh7u",
        "colab": {
          "base_uri": "https://localhost:8080/",
          "height": 143
        },
        "outputId": "53d0450b-c201-42a0-ddf6-00b9285c6646"
      },
      "source": [
        "# Your code goes here\n",
        "pd.DataFrame([\n",
        "                [simple_tagger_dev_word_acc, simple_tagger_dev_sentence_acc, simple_tagger_test_word_acc, simple_tagger_test_sentence_acc],\n",
        "                [hmm_tagger_dev_word_acc, hmm_tagger_dev_sentence_acc, hmm_tagger_test_word_acc, hmm_tagger_test_sentence_acc], \n",
        "                [memm_tagger_dev_word_acc, memm_tagger_dev_sentence_acc, memm_tagger_test_word_acc, memm_tagger_test_sentence_acc]],\n",
        "             columns=['Dev word acc', 'Dev sentence acc', 'Test word acc', 'Test sentence acc'],\n",
        "             index=['Simple', 'HMM', 'MEMM'])\n"
      ],
      "execution_count": null,
      "outputs": [
        {
          "output_type": "execute_result",
          "data": {
            "text/plain": [
              "        Dev word acc  Dev sentence acc  Test word acc  Test sentence acc\n",
              "Simple      0.814608          0.151652       0.792165           0.140000\n",
              "HMM         0.841526          0.171171       0.815450           0.162667\n",
              "MEMM        0.845384          0.181682       0.821429           0.170667"
            ],
            "text/html": [
              "\n",
              "  <div id=\"df-79640027-5dd7-475d-8d1f-ea55936388b4\">\n",
              "    <div class=\"colab-df-container\">\n",
              "      <div>\n",
              "<style scoped>\n",
              "    .dataframe tbody tr th:only-of-type {\n",
              "        vertical-align: middle;\n",
              "    }\n",
              "\n",
              "    .dataframe tbody tr th {\n",
              "        vertical-align: top;\n",
              "    }\n",
              "\n",
              "    .dataframe thead th {\n",
              "        text-align: right;\n",
              "    }\n",
              "</style>\n",
              "<table border=\"1\" class=\"dataframe\">\n",
              "  <thead>\n",
              "    <tr style=\"text-align: right;\">\n",
              "      <th></th>\n",
              "      <th>Dev word acc</th>\n",
              "      <th>Dev sentence acc</th>\n",
              "      <th>Test word acc</th>\n",
              "      <th>Test sentence acc</th>\n",
              "    </tr>\n",
              "  </thead>\n",
              "  <tbody>\n",
              "    <tr>\n",
              "      <th>Simple</th>\n",
              "      <td>0.814608</td>\n",
              "      <td>0.151652</td>\n",
              "      <td>0.792165</td>\n",
              "      <td>0.140000</td>\n",
              "    </tr>\n",
              "    <tr>\n",
              "      <th>HMM</th>\n",
              "      <td>0.841526</td>\n",
              "      <td>0.171171</td>\n",
              "      <td>0.815450</td>\n",
              "      <td>0.162667</td>\n",
              "    </tr>\n",
              "    <tr>\n",
              "      <th>MEMM</th>\n",
              "      <td>0.845384</td>\n",
              "      <td>0.181682</td>\n",
              "      <td>0.821429</td>\n",
              "      <td>0.170667</td>\n",
              "    </tr>\n",
              "  </tbody>\n",
              "</table>\n",
              "</div>\n",
              "      <button class=\"colab-df-convert\" onclick=\"convertToInteractive('df-79640027-5dd7-475d-8d1f-ea55936388b4')\"\n",
              "              title=\"Convert this dataframe to an interactive table.\"\n",
              "              style=\"display:none;\">\n",
              "        \n",
              "  <svg xmlns=\"http://www.w3.org/2000/svg\" height=\"24px\"viewBox=\"0 0 24 24\"\n",
              "       width=\"24px\">\n",
              "    <path d=\"M0 0h24v24H0V0z\" fill=\"none\"/>\n",
              "    <path d=\"M18.56 5.44l.94 2.06.94-2.06 2.06-.94-2.06-.94-.94-2.06-.94 2.06-2.06.94zm-11 1L8.5 8.5l.94-2.06 2.06-.94-2.06-.94L8.5 2.5l-.94 2.06-2.06.94zm10 10l.94 2.06.94-2.06 2.06-.94-2.06-.94-.94-2.06-.94 2.06-2.06.94z\"/><path d=\"M17.41 7.96l-1.37-1.37c-.4-.4-.92-.59-1.43-.59-.52 0-1.04.2-1.43.59L10.3 9.45l-7.72 7.72c-.78.78-.78 2.05 0 2.83L4 21.41c.39.39.9.59 1.41.59.51 0 1.02-.2 1.41-.59l7.78-7.78 2.81-2.81c.8-.78.8-2.07 0-2.86zM5.41 20L4 18.59l7.72-7.72 1.47 1.35L5.41 20z\"/>\n",
              "  </svg>\n",
              "      </button>\n",
              "      \n",
              "  <style>\n",
              "    .colab-df-container {\n",
              "      display:flex;\n",
              "      flex-wrap:wrap;\n",
              "      gap: 12px;\n",
              "    }\n",
              "\n",
              "    .colab-df-convert {\n",
              "      background-color: #E8F0FE;\n",
              "      border: none;\n",
              "      border-radius: 50%;\n",
              "      cursor: pointer;\n",
              "      display: none;\n",
              "      fill: #1967D2;\n",
              "      height: 32px;\n",
              "      padding: 0 0 0 0;\n",
              "      width: 32px;\n",
              "    }\n",
              "\n",
              "    .colab-df-convert:hover {\n",
              "      background-color: #E2EBFA;\n",
              "      box-shadow: 0px 1px 2px rgba(60, 64, 67, 0.3), 0px 1px 3px 1px rgba(60, 64, 67, 0.15);\n",
              "      fill: #174EA6;\n",
              "    }\n",
              "\n",
              "    [theme=dark] .colab-df-convert {\n",
              "      background-color: #3B4455;\n",
              "      fill: #D2E3FC;\n",
              "    }\n",
              "\n",
              "    [theme=dark] .colab-df-convert:hover {\n",
              "      background-color: #434B5C;\n",
              "      box-shadow: 0px 1px 3px 1px rgba(0, 0, 0, 0.15);\n",
              "      filter: drop-shadow(0px 1px 2px rgba(0, 0, 0, 0.3));\n",
              "      fill: #FFFFFF;\n",
              "    }\n",
              "  </style>\n",
              "\n",
              "      <script>\n",
              "        const buttonEl =\n",
              "          document.querySelector('#df-79640027-5dd7-475d-8d1f-ea55936388b4 button.colab-df-convert');\n",
              "        buttonEl.style.display =\n",
              "          google.colab.kernel.accessAllowed ? 'block' : 'none';\n",
              "\n",
              "        async function convertToInteractive(key) {\n",
              "          const element = document.querySelector('#df-79640027-5dd7-475d-8d1f-ea55936388b4');\n",
              "          const dataTable =\n",
              "            await google.colab.kernel.invokeFunction('convertToInteractive',\n",
              "                                                     [key], {});\n",
              "          if (!dataTable) return;\n",
              "\n",
              "          const docLinkHtml = 'Like what you see? Visit the ' +\n",
              "            '<a target=\"_blank\" href=https://colab.research.google.com/notebooks/data_table.ipynb>data table notebook</a>'\n",
              "            + ' to learn more about interactive tables.';\n",
              "          element.innerHTML = '';\n",
              "          dataTable['output_type'] = 'display_data';\n",
              "          await google.colab.output.renderOutput(dataTable, element);\n",
              "          const docLink = document.createElement('div');\n",
              "          docLink.innerHTML = docLinkHtml;\n",
              "          element.appendChild(docLink);\n",
              "        }\n",
              "      </script>\n",
              "    </div>\n",
              "  </div>\n",
              "  "
            ]
          },
          "metadata": {},
          "execution_count": 321
        }
      ]
    }
  ]
}