{
  "nbformat": 4,
  "nbformat_minor": 0,
  "metadata": {
    "colab": {
      "name": " HW 3 - NER",
      "provenance": [],
      "collapsed_sections": [],
      "include_colab_link": true
    },
    "kernelspec": {
      "name": "python3",
      "display_name": "Python 3"
    },
    "accelerator": "GPU"
  },
  "cells": [
    {
      "cell_type": "markdown",
      "metadata": {
        "id": "view-in-github",
        "colab_type": "text"
      },
      "source": [
        "<a href=\"https://colab.research.google.com/github/ItaiKaplan/NLP/blob/main/HW_3_NER.ipynb\" target=\"_parent\"><img src=\"https://colab.research.google.com/assets/colab-badge.svg\" alt=\"Open In Colab\"/></a>"
      ]
    },
    {
      "cell_type": "markdown",
      "metadata": {
        "id": "k-WJBimYDLJS"
      },
      "source": [
        "# Assignment 3\n",
        "Training a neural named entity recognition (NER) tagger "
      ]
    },
    {
      "cell_type": "code",
      "metadata": {
        "id": "3enPCGBF8FlX"
      },
      "source": [
        "import torch\n",
        "import torch.nn as nn\n"
      ],
      "execution_count": null,
      "outputs": []
    },
    {
      "cell_type": "code",
      "source": [
        "# Set device as cuda if available\n",
        "device = torch.device(\"cuda\" if torch.cuda.is_available() else \"cpu\")\n",
        "print(f\"Device is {device}\")"
      ],
      "metadata": {
        "colab": {
          "base_uri": "https://localhost:8080/"
        },
        "id": "yNnEacaCFhx2",
        "outputId": "8b8a1363-ff25-430c-9815-9ba18aff33d3"
      },
      "execution_count": null,
      "outputs": [
        {
          "output_type": "stream",
          "name": "stdout",
          "text": [
            "Device is cuda\n"
          ]
        }
      ]
    },
    {
      "cell_type": "markdown",
      "metadata": {
        "id": "V5QSIEoyDdWh"
      },
      "source": [
        "In this assignment you are required to build a full training and testing pipeline for a neural sequentail tagger for named entities, using LSTM.\n",
        "\n",
        "The dataset that you will be working on is called ReCoNLL 2003, which is a corrected version of the CoNLL 2003 dataset: https://www.clips.uantwerpen.be/conll2003/ner/\n",
        "\n",
        "[Train data](https://drive.google.com/file/d/1hG66e_OoezzeVKho1w7ysyAx4yp0ShDz/view?usp=sharing)\n",
        "\n",
        "[Dev data](https://drive.google.com/file/d/1EAF-VygYowU1XknZhvzMi2CID65I127L/view?usp=sharing)\n",
        "\n",
        "[Test data](https://drive.google.com/file/d/16gug5wWnf06JdcBXQbcICOZGZypgr4Iu/view?usp=sharing)\n",
        "\n",
        "As you can see, the annotated texts are labeled according to the IOB annotation scheme, for 3 entity types: Person, Organization, Location."
      ]
    },
    {
      "cell_type": "markdown",
      "metadata": {
        "id": "5ul2Y3vuPoV8"
      },
      "source": [
        "**Task 1:** Write a funtion for reading the data from a single file (of the ones that are provided above). The function recieves a filepath and then it encodes every sentence individually using a pair of lists, one list contains the words and one list contains the tags. Each list pair will be added to a general list (data), which will be returned back from the function."
      ]
    },
    {
      "cell_type": "code",
      "source": [
        "!gdown --id 1hG66e_OoezzeVKho1w7ysyAx4yp0ShDz\n",
        "!gdown --id 1EAF-VygYowU1XknZhvzMi2CID65I127L\n",
        "!gdown --id 16gug5wWnf06JdcBXQbcICOZGZypgr4Iu"
      ],
      "metadata": {
        "colab": {
          "base_uri": "https://localhost:8080/"
        },
        "id": "zA6DuA2HwBlT",
        "outputId": "30300d54-a148-443c-e78e-0ec4adccb93f"
      },
      "execution_count": null,
      "outputs": [
        {
          "output_type": "stream",
          "name": "stdout",
          "text": [
            "/usr/local/lib/python3.7/dist-packages/gdown/cli.py:131: FutureWarning: Option `--id` was deprecated in version 4.3.1 and will be removed in 5.0. You don't need to pass it anymore to use a file ID.\n",
            "  category=FutureWarning,\n",
            "Downloading...\n",
            "From: https://drive.google.com/uc?id=1hG66e_OoezzeVKho1w7ysyAx4yp0ShDz\n",
            "To: /content/connl03_train.txt\n",
            "100% 264k/264k [00:00<00:00, 28.2MB/s]\n",
            "/usr/local/lib/python3.7/dist-packages/gdown/cli.py:131: FutureWarning: Option `--id` was deprecated in version 4.3.1 and will be removed in 5.0. You don't need to pass it anymore to use a file ID.\n",
            "  category=FutureWarning,\n",
            "Downloading...\n",
            "From: https://drive.google.com/uc?id=1EAF-VygYowU1XknZhvzMi2CID65I127L\n",
            "To: /content/connl03_dev.txt\n",
            "100% 36.6k/36.6k [00:00<00:00, 43.5MB/s]\n",
            "/usr/local/lib/python3.7/dist-packages/gdown/cli.py:131: FutureWarning: Option `--id` was deprecated in version 4.3.1 and will be removed in 5.0. You don't need to pass it anymore to use a file ID.\n",
            "  category=FutureWarning,\n",
            "Downloading...\n",
            "From: https://drive.google.com/uc?id=16gug5wWnf06JdcBXQbcICOZGZypgr4Iu\n",
            "To: /content/connl03_test.txt\n",
            "100% 75.9k/75.9k [00:00<00:00, 84.9MB/s]\n"
          ]
        }
      ]
    },
    {
      "cell_type": "code",
      "metadata": {
        "id": "prgzgtt8Jw4Y"
      },
      "source": [
        "def read_data(filepath):\n",
        "    data = []\n",
        "    # TODO... write your code accordingly \n",
        "    word_buffer = list()\n",
        "    tag_buffer = list()\n",
        "\n",
        "    with open(filepath, 'r') as f:\n",
        "      for line in f.readlines():\n",
        "        split_line = line.strip().split(\" \")\n",
        "        if len(split_line) != 2:\n",
        "          data.append((word_buffer, tag_buffer))\n",
        "          word_buffer = list()\n",
        "          tag_buffer = list()\n",
        "          continue\n",
        "          \n",
        "        word, tag = split_line\n",
        "        word_buffer.append(word)\n",
        "        tag_buffer.append(tag)\n",
        "    \n",
        "    if word_buffer:\n",
        "      data.append((word_buffer, tag_buffer))\n",
        "\n",
        "    return data\n",
        "\n",
        "train = read_data('/content/connl03_train.txt')\n",
        "dev = read_data('/content/connl03_dev.txt')\n",
        "test = read_data('/content/connl03_test.txt')\n"
      ],
      "execution_count": null,
      "outputs": []
    },
    {
      "cell_type": "markdown",
      "metadata": {
        "id": "IuGwk6OwRWGS"
      },
      "source": [
        "The following Vocab class can be served as a dictionary that maps words and tags into Ids. The UNK_TOKEN should be used for words that are not part of the training data."
      ]
    },
    {
      "cell_type": "code",
      "metadata": {
        "id": "6rKIB5o_vQO8"
      },
      "source": [
        "UNK_TOKEN = 0\n",
        "\n",
        "class Vocab:\n",
        "    def __init__(self):\n",
        "        self.word2id = {\"__unk__\": UNK_TOKEN}\n",
        "        self.id2word = {UNK_TOKEN: \"__unk__\"}\n",
        "        self.n_words = 1\n",
        "        \n",
        "        self.tag2id = {\"O\":0, \"B-PER\":1, \"I-PER\": 2, \"B-LOC\": 3, \"I-LOC\": 4, \"B-ORG\": 5, \"I-ORG\": 6}\n",
        "        self.id2tag = {0:\"O\", 1:\"B-PER\", 2:\"I-PER\", 3:\"B-LOC\", 4:\"I-LOC\", 5:\"B-ORG\", 6:\"I-ORG\"}\n",
        "        \n",
        "    def index_words(self, words):\n",
        "      word_indexes = [self.index_word(w) for w in words]\n",
        "      return word_indexes\n",
        "\n",
        "    def index_tags(self, tags):\n",
        "      tag_indexes = [self.tag2id[t] for t in tags]\n",
        "      return tag_indexes\n",
        "    \n",
        "    def index_word(self, w):\n",
        "        if w not in self.word2id:\n",
        "            self.word2id[w] = self.n_words\n",
        "            self.id2word[self.n_words] = w\n",
        "            self.n_words += 1\n",
        "        return self.word2id[w]\n",
        "            "
      ],
      "execution_count": null,
      "outputs": []
    },
    {
      "cell_type": "markdown",
      "metadata": {
        "id": "iDKYryfKfNdh"
      },
      "source": [
        "**Task 2:** Write a function prepare_data that takes one of the [train, dev, test] and the Vocab instance, for converting each pair of (words,tags) to a pair of indexes. Each pair should be added to data_sequences, which will be returned back from the function."
      ]
    },
    {
      "cell_type": "code",
      "metadata": {
        "id": "noIY3zWKvhBd"
      },
      "source": [
        "vocab = Vocab()\n",
        "\n",
        "def prepare_data(data, vocab):\n",
        "    data_sequences = []\n",
        "    # TODO - your code...\n",
        "    for data_list, tag_list in data:\n",
        "      data_sequences.append((\n",
        "          torch.tensor(vocab.index_words(data_list)).to(device),\n",
        "          torch.tensor(vocab.index_tags(tag_list)).to(device)))\n",
        "    return data_sequences, vocab\n",
        "\n",
        "train_sequences, vocab = prepare_data(train, vocab)\n",
        "dev_sequences, vocab = prepare_data(dev, vocab)\n",
        "test_sequences, vocab = prepare_data(test, vocab)"
      ],
      "execution_count": null,
      "outputs": []
    },
    {
      "cell_type": "markdown",
      "metadata": {
        "id": "UccfiRRtiEet"
      },
      "source": [
        "**Task 3:** Write NERNet, a PyTorch Module for labeling words with NER tags. \n",
        "\n",
        "*input_size:* the size of the vocabulary\n",
        "\n",
        "*embedding_size:* the size of the embeddings\n",
        "\n",
        "*hidden_size:* the LSTM hidden size\n",
        "\n",
        "*output_size:* the number tags we are predicting for\n",
        "\n",
        "*n_layers:* the number of layers we want to use in LSTM\n",
        "\n",
        "*directions:* could 1 or 2, indicating unidirectional or bidirectional LSTM, respectively\n",
        "\n",
        "The input for your forward function should be a single sentence tensor.\n",
        "\n",
        "*note:* the embeddings in this section are learned embedding. That means that you don't need to use pretrained embedding like the one used in class. You will use them in part 5"
      ]
    },
    {
      "cell_type": "code",
      "metadata": {
        "id": "Ke1LyUQNyQaM"
      },
      "source": [
        "class NERNet(nn.Module):\n",
        "    def __init__(self, input_size, embedding_size, hidden_size, output_size, n_layers, directions):\n",
        "        super(NERNet, self).__init__()\n",
        "        # TODO: your code...\n",
        "        self.embedding = nn.Embedding(input_size, embedding_size)\n",
        "        self.lstm = nn.LSTM(embedding_size, hidden_size, n_layers, bidirectional=directions)\n",
        "        self.out = nn.Linear(hidden_size, output_size)\n",
        "    \n",
        "    def forward(self, input_sentence):\n",
        "        # TODO: your code...\n",
        "        embeds = self.embedding(input_sentence)\n",
        "        lstm_out, _ = self.lstm(embeds)\n",
        "        output = nn.functional.softmax(self.out(lstm_out))\n",
        "        \n",
        "        return output\n",
        "    "
      ],
      "execution_count": null,
      "outputs": []
    },
    {
      "cell_type": "markdown",
      "metadata": {
        "id": "dEGSQdeUkTP8"
      },
      "source": [
        "**Task 4:** write a training loop, which takes a model (instance of NERNet) and number of epochs to train on. The loss is always CrossEntropyLoss and the optimizer is always Adam."
      ]
    },
    {
      "cell_type": "code",
      "metadata": {
        "id": "avkHfjT3k0HM"
      },
      "source": [
        "def train_loop(model, n_epochs):\n",
        "  # Loss function\n",
        "  criterion = nn.CrossEntropyLoss()\n",
        "\n",
        "  # Optimizer (ADAM is a fancy version of SGD)\n",
        "  optimizer = torch.optim.Adam(model.parameters(), lr=0.0001)\n",
        "  \n",
        "  for e in range(1, n_epochs + 1):\n",
        "    # TODO - your code goes here...\n",
        "    for words, tags in train_sequences:\n",
        "      optimizer.zero_grad()\n",
        "      scores = model(words)\n",
        "      loss = criterion(scores, tags)\n",
        "      loss.backward()\n",
        "      optimizer.step()\n",
        "\n"
      ],
      "execution_count": null,
      "outputs": []
    },
    {
      "cell_type": "code",
      "source": [
        "test_model_1 = NERNet(len(vocab.id2word), 300, 500, len(vocab.id2tag), 1, False).to(device)\n",
        "train_loop(test_model_1, 10)"
      ],
      "metadata": {
        "colab": {
          "base_uri": "https://localhost:8080/"
        },
        "id": "NNMRfJIgC-WJ",
        "outputId": "f2772336-1b1a-4981-e4eb-3fe0fc411108"
      },
      "execution_count": null,
      "outputs": [
        {
          "output_type": "stream",
          "name": "stderr",
          "text": [
            "/usr/local/lib/python3.7/dist-packages/ipykernel_launcher.py:13: UserWarning: Implicit dimension choice for softmax has been deprecated. Change the call to include dim=X as an argument.\n",
            "  del sys.path[0]\n"
          ]
        }
      ]
    },
    {
      "cell_type": "code",
      "source": [
        "train_sequences[:3]"
      ],
      "metadata": {
        "colab": {
          "base_uri": "https://localhost:8080/"
        },
        "id": "iByt4FBoGNKE",
        "outputId": "e4f229a7-7956-4c8e-b22d-c5a1bac256b4"
      },
      "execution_count": null,
      "outputs": [
        {
          "output_type": "execute_result",
          "data": {
            "text/plain": [
              "[(tensor([1, 2, 3, 4]), tensor([5, 0, 5, 0])),\n",
              " (tensor([ 5,  6,  7,  8,  9, 10, 11, 12, 13, 14, 15]),\n",
              "  tensor([0, 3, 4, 0, 5, 0, 0, 1, 2, 0, 0])),\n",
              " (tensor([16, 17, 18, 19, 18, 20, 21, 22, 23, 24]),\n",
              "  tensor([0, 0, 0, 3, 0, 5, 6, 0, 0, 0]))]"
            ]
          },
          "metadata": {},
          "execution_count": 22
        }
      ]
    },
    {
      "cell_type": "code",
      "source": [
        "torch.argmax(test_model_1(train_sequences[10][0]), dim=-1).cpu()"
      ],
      "metadata": {
        "colab": {
          "base_uri": "https://localhost:8080/"
        },
        "id": "dPYpA7h6FzB1",
        "outputId": "07def410-7845-43e7-dce0-222620c231d7"
      },
      "execution_count": null,
      "outputs": [
        {
          "output_type": "stream",
          "name": "stderr",
          "text": [
            "/usr/local/lib/python3.7/dist-packages/ipykernel_launcher.py:13: UserWarning: Implicit dimension choice for softmax has been deprecated. Change the call to include dim=X as an argument.\n",
            "  del sys.path[0]\n"
          ]
        },
        {
          "output_type": "execute_result",
          "data": {
            "text/plain": [
              "tensor([0, 0, 0, 0, 0, 0, 0, 0])"
            ]
          },
          "metadata": {},
          "execution_count": 49
        }
      ]
    },
    {
      "cell_type": "markdown",
      "metadata": {
        "id": "baN1c_B7lTjb"
      },
      "source": [
        "**Task 5:** write an evaluation loop on a trained model, using the dev and test datasets. This function print the true positive rate (TPR), also known as Recall and the opposite to false positive rate (FPR), also known as precision, of each label seperately (7 labels in total), and for all the 6 labels (except O) together. The caption argument for the function should be served for printing, so that when you print include it as a prefix."
      ]
    },
    {
      "cell_type": "code",
      "source": [
        "a = torch.zeros(7).to(device)\n",
        "b = [1,2,3,4,5,6,7]\n",
        "b[int(a[0].item())]"
      ],
      "metadata": {
        "colab": {
          "base_uri": "https://localhost:8080/"
        },
        "id": "Y1x6a7nHR_W8",
        "outputId": "74ccd2e6-8cf8-405a-d03d-2f6fb754d0ea"
      },
      "execution_count": null,
      "outputs": [
        {
          "output_type": "execute_result",
          "data": {
            "text/plain": [
              "1"
            ]
          },
          "metadata": {},
          "execution_count": 57
        }
      ]
    },
    {
      "cell_type": "code",
      "metadata": {
        "id": "iyQAjGaqmd8U"
      },
      "source": [
        "from collections import Counter\n",
        "\n",
        "def evaluate(model, caption):\n",
        "  # TODO - your code goes here\n",
        "  evaluate_dataset(model, caption, dev_sequences)\n",
        "  evaluate_dataset(model, caption, test_sequences)\n",
        "\n",
        "\n",
        "def evaluate_dataset(model, caption, seq):\n",
        "  all_counts = [Counter() for i in range(7)]\n",
        "  #individual_correct = torch.zeros(7).to(device)\n",
        "  #individual_incorrect = torch.zeros(7).to(device)\n",
        "  #correct_named_entity = 0\n",
        "  #incorrect_named_entity = 0\n",
        "\n",
        "  model.eval()\n",
        "  with torch.no_grad():\n",
        "    for words, tags in dev_sequences:\n",
        "      preds = torch.argmax(model(words), dim=-1)\n",
        "      for i, pred in enumerate(preds):\n",
        "        if pred.item() == tags[i].item():\n",
        "          for j, counts in enumerate(all_counts):\n",
        "            if j == tags[i].item():\n",
        "              counts['TP'] += 1\n",
        "            else:\n",
        "              counts['TN'] += 1\n",
        "        else:\n",
        "          for j, counts in enumerate(all_counts):\n",
        "            if j == tags[i].item():\n",
        "              counts['FN'] += 1\n",
        "            elif j == pred.item():\n",
        "              counts['FP'] += 1\n",
        "            else:\n",
        "              counts['TN'] += 1\n",
        "\n",
        "    for tag, tag_counts in enumerate(all_counts):\n",
        "      try:\n",
        "        recall = tag_counts['TP'] / (tag_counts['TP'] + tag_counts['FN'])\n",
        "      except ZeroDivisionError:\n",
        "        recall = 0\n",
        "      try:\n",
        "        precision = tag_counts['TP'] / (tag_counts['TP'] + tag_counts['FP'])\n",
        "      except ZeroDivisionError:\n",
        "        precision = 0\n",
        "      print(f\"{caption} --  {vocab.id2tag[tag]} recall: {recall} , precision: {precision}\")\n",
        "    \n",
        "    o_counts = all_counts[0]\n",
        "    all_recall = o_counts['TN'] / (o_counts['TN'] + o_counts['FP'])\n",
        "    all_precision = o_counts['TN'] / (o_counts['TN'] + o_counts['FN'])\n",
        "    print(f\"{caption} -- all toghether -- recall: {all_recall} , precision: {all_precision}\")\n",
        "\n"
      ],
      "execution_count": null,
      "outputs": []
    },
    {
      "cell_type": "markdown",
      "metadata": {
        "id": "LQSXqWNOmqG4"
      },
      "source": [
        "**Task 6:** Train and evaluate a few models, all with embedding_size=300, and with the following hyper parameters (you may use that as captions for the models as well):\n",
        "\n",
        "Model 1: (hidden_size: 500, n_layers: 1, directions: 1)\n",
        "\n",
        "Model 2: (hidden_size: 500, n_layers: 2, directions: 1)\n",
        "\n",
        "Model 3: (hidden_size: 500, n_layers: 3, directions: 1)\n",
        "\n",
        "Model 4: (hidden_size: 500, n_layers: 1, directions: 2)\n",
        "\n",
        "Model 5: (hidden_size: 500, n_layers: 2, directions: 2)\n",
        "\n",
        "Model 6: (hidden_size: 500, n_layers: 3, directions: 2)\n",
        "\n",
        "Model 4: (hidden_size: 800, n_layers: 1, directions: 2)\n",
        "\n",
        "Model 5: (hidden_size: 800, n_layers: 2, directions: 2)\n",
        "\n",
        "Model 6: (hidden_size: 800, n_layers: 3, directions: 2)"
      ]
    },
    {
      "cell_type": "code",
      "metadata": {
        "id": "gTNmBU6hycZl",
        "colab": {
          "base_uri": "https://localhost:8080/",
          "height": 1000
        },
        "outputId": "d7406cc5-48fb-45a8-d542-e7b53e2cbd89"
      },
      "source": [
        "# TODO - your code goes here...\n",
        "embedding_size=300\n",
        "input_size = len(vocab.id2word)\n",
        "output_size = len(vocab.id2tag)\n",
        "n_epochs = 40\n",
        "\n",
        "all_models_and_params = list()\n",
        "\n",
        "for hidden_size in [500, 800]:\n",
        "  for n_layers in [1,2,3]:\n",
        "    for bidirectional in [False, True]:\n",
        "      if hidden_size == 800 and not bidirectional:\n",
        "        continue\n",
        "      \n",
        "      model = NERNet(input_size, \n",
        "                    embedding_size,\n",
        "                    hidden_size,\n",
        "                    output_size,\n",
        "                    n_layers,\n",
        "                    False).to(device)\n",
        "      train_loop(model, 50)\n",
        "      cap = f\"hidden size: {hidden_size}, n_layers: {n_layers}, bidirectional: {bidirectional}\"\n",
        "      evaluate(model, cap)\n",
        "    \n",
        "\n",
        "\"\"\"\n",
        "model_1 = NERNet(input_size, \n",
        "                 embedding_size,\n",
        "                 500,\n",
        "                 output_size,\n",
        "                 1,\n",
        "                 False).to(device)\n",
        "train_loop(model_1, 50)\n",
        "evaluate(model_1, \"\")\"\"\"\n"
      ],
      "execution_count": null,
      "outputs": [
        {
          "output_type": "stream",
          "name": "stderr",
          "text": [
            "/usr/local/lib/python3.7/dist-packages/ipykernel_launcher.py:13: UserWarning: Implicit dimension choice for softmax has been deprecated. Change the call to include dim=X as an argument.\n",
            "  del sys.path[0]\n"
          ]
        },
        {
          "output_type": "stream",
          "name": "stdout",
          "text": [
            "hidden size: 500, n_layers: 1, bidirectional: False --  O recall: 0.9644702842377261 , precision: 0.9261786600496278\n",
            "hidden size: 500, n_layers: 1, bidirectional: False --  B-PER recall: 0.72 , precision: 0.7128712871287128\n",
            "hidden size: 500, n_layers: 1, bidirectional: False --  I-PER recall: 0.7070063694267515 , precision: 0.8161764705882353\n",
            "hidden size: 500, n_layers: 1, bidirectional: False --  B-LOC recall: 0.7377049180327869 , precision: 0.7458563535911602\n",
            "hidden size: 500, n_layers: 1, bidirectional: False --  I-LOC recall: 0.5217391304347826 , precision: 0.8571428571428571\n",
            "hidden size: 500, n_layers: 1, bidirectional: False --  B-ORG recall: 0.5476190476190477 , precision: 0.6865671641791045\n",
            "hidden size: 500, n_layers: 1, bidirectional: False --  I-ORG recall: 0.35344827586206895 , precision: 0.7884615384615384\n",
            "hidden size: 500, n_layers: 1, bidirectional: False -- all toghether -- recall: 0.71900826446281 , precision: 0.847009735744089\n",
            "hidden size: 500, n_layers: 1, bidirectional: False --  O recall: 0.9644702842377261 , precision: 0.9261786600496278\n",
            "hidden size: 500, n_layers: 1, bidirectional: False --  B-PER recall: 0.72 , precision: 0.7128712871287128\n",
            "hidden size: 500, n_layers: 1, bidirectional: False --  I-PER recall: 0.7070063694267515 , precision: 0.8161764705882353\n",
            "hidden size: 500, n_layers: 1, bidirectional: False --  B-LOC recall: 0.7377049180327869 , precision: 0.7458563535911602\n",
            "hidden size: 500, n_layers: 1, bidirectional: False --  I-LOC recall: 0.5217391304347826 , precision: 0.8571428571428571\n",
            "hidden size: 500, n_layers: 1, bidirectional: False --  B-ORG recall: 0.5476190476190477 , precision: 0.6865671641791045\n",
            "hidden size: 500, n_layers: 1, bidirectional: False --  I-ORG recall: 0.35344827586206895 , precision: 0.7884615384615384\n",
            "hidden size: 500, n_layers: 1, bidirectional: False -- all toghether -- recall: 0.71900826446281 , precision: 0.847009735744089\n",
            "hidden size: 500, n_layers: 1, bidirectional: True --  O recall: 0.9796511627906976 , precision: 0.9261068702290076\n",
            "hidden size: 500, n_layers: 1, bidirectional: True --  B-PER recall: 0.635 , precision: 0.7791411042944786\n",
            "hidden size: 500, n_layers: 1, bidirectional: True --  I-PER recall: 0.6687898089171974 , precision: 0.8898305084745762\n",
            "hidden size: 500, n_layers: 1, bidirectional: True --  B-LOC recall: 0.7431693989071039 , precision: 0.8292682926829268\n",
            "hidden size: 500, n_layers: 1, bidirectional: True --  I-LOC recall: 0.5217391304347826 , precision: 0.8571428571428571\n",
            "hidden size: 500, n_layers: 1, bidirectional: True --  B-ORG recall: 0.5773809523809523 , precision: 0.6830985915492958\n",
            "hidden size: 500, n_layers: 1, bidirectional: True --  I-ORG recall: 0.4396551724137931 , precision: 0.7611940298507462\n",
            "hidden size: 500, n_layers: 1, bidirectional: True -- all toghether -- recall: 0.7142857142857143 , precision: 0.905688622754491\n",
            "hidden size: 500, n_layers: 1, bidirectional: True --  O recall: 0.9796511627906976 , precision: 0.9261068702290076\n",
            "hidden size: 500, n_layers: 1, bidirectional: True --  B-PER recall: 0.635 , precision: 0.7791411042944786\n",
            "hidden size: 500, n_layers: 1, bidirectional: True --  I-PER recall: 0.6687898089171974 , precision: 0.8898305084745762\n",
            "hidden size: 500, n_layers: 1, bidirectional: True --  B-LOC recall: 0.7431693989071039 , precision: 0.8292682926829268\n",
            "hidden size: 500, n_layers: 1, bidirectional: True --  I-LOC recall: 0.5217391304347826 , precision: 0.8571428571428571\n",
            "hidden size: 500, n_layers: 1, bidirectional: True --  B-ORG recall: 0.5773809523809523 , precision: 0.6830985915492958\n",
            "hidden size: 500, n_layers: 1, bidirectional: True --  I-ORG recall: 0.4396551724137931 , precision: 0.7611940298507462\n",
            "hidden size: 500, n_layers: 1, bidirectional: True -- all toghether -- recall: 0.7142857142857143 , precision: 0.905688622754491\n"
          ]
        },
        {
          "output_type": "error",
          "ename": "KeyboardInterrupt",
          "evalue": "ignored",
          "traceback": [
            "\u001b[0;31m---------------------------------------------------------------------------\u001b[0m",
            "\u001b[0;31mKeyboardInterrupt\u001b[0m                         Traceback (most recent call last)",
            "\u001b[0;32m<ipython-input-72-f2be829a5c86>\u001b[0m in \u001b[0;36m<module>\u001b[0;34m()\u001b[0m\n\u001b[1;32m     19\u001b[0m                     \u001b[0mn_layers\u001b[0m\u001b[0;34m,\u001b[0m\u001b[0;34m\u001b[0m\u001b[0;34m\u001b[0m\u001b[0m\n\u001b[1;32m     20\u001b[0m                     False).to(device)\n\u001b[0;32m---> 21\u001b[0;31m       \u001b[0mtrain_loop\u001b[0m\u001b[0;34m(\u001b[0m\u001b[0mmodel\u001b[0m\u001b[0;34m,\u001b[0m \u001b[0;36m50\u001b[0m\u001b[0;34m)\u001b[0m\u001b[0;34m\u001b[0m\u001b[0;34m\u001b[0m\u001b[0m\n\u001b[0m\u001b[1;32m     22\u001b[0m       \u001b[0mcap\u001b[0m \u001b[0;34m=\u001b[0m \u001b[0;34mf\"hidden size: {hidden_size}, n_layers: {n_layers}, bidirectional: {bidirectional}\"\u001b[0m\u001b[0;34m\u001b[0m\u001b[0;34m\u001b[0m\u001b[0m\n\u001b[1;32m     23\u001b[0m       \u001b[0mevaluate\u001b[0m\u001b[0;34m(\u001b[0m\u001b[0mmodel\u001b[0m\u001b[0;34m,\u001b[0m \u001b[0mcap\u001b[0m\u001b[0;34m)\u001b[0m\u001b[0;34m\u001b[0m\u001b[0;34m\u001b[0m\u001b[0m\n",
            "\u001b[0;32m<ipython-input-32-e46b3d9b0e6e>\u001b[0m in \u001b[0;36mtrain_loop\u001b[0;34m(model, n_epochs)\u001b[0m\n\u001b[1;32m     12\u001b[0m       \u001b[0mscores\u001b[0m \u001b[0;34m=\u001b[0m \u001b[0mmodel\u001b[0m\u001b[0;34m(\u001b[0m\u001b[0mwords\u001b[0m\u001b[0;34m)\u001b[0m\u001b[0;34m\u001b[0m\u001b[0;34m\u001b[0m\u001b[0m\n\u001b[1;32m     13\u001b[0m       \u001b[0mloss\u001b[0m \u001b[0;34m=\u001b[0m \u001b[0mcriterion\u001b[0m\u001b[0;34m(\u001b[0m\u001b[0mscores\u001b[0m\u001b[0;34m,\u001b[0m \u001b[0mtags\u001b[0m\u001b[0;34m)\u001b[0m\u001b[0;34m\u001b[0m\u001b[0;34m\u001b[0m\u001b[0m\n\u001b[0;32m---> 14\u001b[0;31m       \u001b[0mloss\u001b[0m\u001b[0;34m.\u001b[0m\u001b[0mbackward\u001b[0m\u001b[0;34m(\u001b[0m\u001b[0;34m)\u001b[0m\u001b[0;34m\u001b[0m\u001b[0;34m\u001b[0m\u001b[0m\n\u001b[0m\u001b[1;32m     15\u001b[0m       \u001b[0moptimizer\u001b[0m\u001b[0;34m.\u001b[0m\u001b[0mstep\u001b[0m\u001b[0;34m(\u001b[0m\u001b[0;34m)\u001b[0m\u001b[0;34m\u001b[0m\u001b[0;34m\u001b[0m\u001b[0m\n\u001b[1;32m     16\u001b[0m       \u001b[0;31m#preds = torch.argmax(scores, dim=-1)\u001b[0m\u001b[0;34m\u001b[0m\u001b[0;34m\u001b[0m\u001b[0;34m\u001b[0m\u001b[0m\n",
            "\u001b[0;32m/usr/local/lib/python3.7/dist-packages/torch/_tensor.py\u001b[0m in \u001b[0;36mbackward\u001b[0;34m(self, gradient, retain_graph, create_graph, inputs)\u001b[0m\n\u001b[1;32m    361\u001b[0m                 \u001b[0mcreate_graph\u001b[0m\u001b[0;34m=\u001b[0m\u001b[0mcreate_graph\u001b[0m\u001b[0;34m,\u001b[0m\u001b[0;34m\u001b[0m\u001b[0;34m\u001b[0m\u001b[0m\n\u001b[1;32m    362\u001b[0m                 inputs=inputs)\n\u001b[0;32m--> 363\u001b[0;31m         \u001b[0mtorch\u001b[0m\u001b[0;34m.\u001b[0m\u001b[0mautograd\u001b[0m\u001b[0;34m.\u001b[0m\u001b[0mbackward\u001b[0m\u001b[0;34m(\u001b[0m\u001b[0mself\u001b[0m\u001b[0;34m,\u001b[0m \u001b[0mgradient\u001b[0m\u001b[0;34m,\u001b[0m \u001b[0mretain_graph\u001b[0m\u001b[0;34m,\u001b[0m \u001b[0mcreate_graph\u001b[0m\u001b[0;34m,\u001b[0m \u001b[0minputs\u001b[0m\u001b[0;34m=\u001b[0m\u001b[0minputs\u001b[0m\u001b[0;34m)\u001b[0m\u001b[0;34m\u001b[0m\u001b[0;34m\u001b[0m\u001b[0m\n\u001b[0m\u001b[1;32m    364\u001b[0m \u001b[0;34m\u001b[0m\u001b[0m\n\u001b[1;32m    365\u001b[0m     \u001b[0;32mdef\u001b[0m \u001b[0mregister_hook\u001b[0m\u001b[0;34m(\u001b[0m\u001b[0mself\u001b[0m\u001b[0;34m,\u001b[0m \u001b[0mhook\u001b[0m\u001b[0;34m)\u001b[0m\u001b[0;34m:\u001b[0m\u001b[0;34m\u001b[0m\u001b[0;34m\u001b[0m\u001b[0m\n",
            "\u001b[0;32m/usr/local/lib/python3.7/dist-packages/torch/autograd/__init__.py\u001b[0m in \u001b[0;36mbackward\u001b[0;34m(tensors, grad_tensors, retain_graph, create_graph, grad_variables, inputs)\u001b[0m\n\u001b[1;32m    173\u001b[0m     Variable._execution_engine.run_backward(  # Calls into the C++ engine to run the backward pass\n\u001b[1;32m    174\u001b[0m         \u001b[0mtensors\u001b[0m\u001b[0;34m,\u001b[0m \u001b[0mgrad_tensors_\u001b[0m\u001b[0;34m,\u001b[0m \u001b[0mretain_graph\u001b[0m\u001b[0;34m,\u001b[0m \u001b[0mcreate_graph\u001b[0m\u001b[0;34m,\u001b[0m \u001b[0minputs\u001b[0m\u001b[0;34m,\u001b[0m\u001b[0;34m\u001b[0m\u001b[0;34m\u001b[0m\u001b[0m\n\u001b[0;32m--> 175\u001b[0;31m         allow_unreachable=True, accumulate_grad=True)  # Calls into the C++ engine to run the backward pass\n\u001b[0m\u001b[1;32m    176\u001b[0m \u001b[0;34m\u001b[0m\u001b[0m\n\u001b[1;32m    177\u001b[0m def grad(\n",
            "\u001b[0;31mKeyboardInterrupt\u001b[0m: "
          ]
        }
      ]
    },
    {
      "cell_type": "markdown",
      "metadata": {
        "id": "UM74r0_8nk5s"
      },
      "source": [
        "**Task 6:** Download the GloVe embeddings from https://nlp.stanford.edu/projects/glove/ (use the 300-dim vectors from glove.6B.zip). Then intialize the nn.Embedding module in your NERNet with these embeddings, so that you can start your training with pre-trained vectors. Repeat Task 6 and print the results for each model.\n",
        "\n",
        "Note: make sure that vectors are aligned with the IDs in your Vocab, in other words, make sure that for example the word with ID 0 is the first vector in the GloVe matrix of vectors that you initialize nn.Embedding with. For a dicussion on how to do that, check it this link:\n",
        "https://discuss.pytorch.org/t/can-we-use-pre-trained-word-embeddings-for-weight-initialization-in-nn-embedding/1222"
      ]
    },
    {
      "cell_type": "code",
      "metadata": {
        "id": "JRiMbvx9o5Rh"
      },
      "source": [
        "# TODO - your code goes here..."
      ],
      "execution_count": null,
      "outputs": []
    },
    {
      "cell_type": "markdown",
      "metadata": {
        "id": "jxaESRoco6bV"
      },
      "source": [
        "**Good luck!**"
      ]
    }
  ]
}